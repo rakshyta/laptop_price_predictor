{
 "cells": [
  {
   "cell_type": "code",
   "execution_count": 1,
   "id": "2fcd08dc",
   "metadata": {},
   "outputs": [],
   "source": [
    "import numpy as np\n",
    "import pandas as pd\n",
    "from pandas.core.indexes.numeric import NumericIndex"
   ]
  },
  {
   "cell_type": "code",
   "execution_count": 2,
   "id": "185dd7b8",
   "metadata": {},
   "outputs": [
    {
     "data": {
      "text/html": [
       "<div>\n",
       "<style scoped>\n",
       "    .dataframe tbody tr th:only-of-type {\n",
       "        vertical-align: middle;\n",
       "    }\n",
       "\n",
       "    .dataframe tbody tr th {\n",
       "        vertical-align: top;\n",
       "    }\n",
       "\n",
       "    .dataframe thead th {\n",
       "        text-align: right;\n",
       "    }\n",
       "</style>\n",
       "<table border=\"1\" class=\"dataframe\">\n",
       "  <thead>\n",
       "    <tr style=\"text-align: right;\">\n",
       "      <th></th>\n",
       "      <th>Unnamed: 0</th>\n",
       "      <th>Company</th>\n",
       "      <th>TypeName</th>\n",
       "      <th>Inches</th>\n",
       "      <th>ScreenResolution</th>\n",
       "      <th>Cpu</th>\n",
       "      <th>Ram</th>\n",
       "      <th>Memory</th>\n",
       "      <th>Gpu</th>\n",
       "      <th>OpSys</th>\n",
       "      <th>Weight</th>\n",
       "      <th>Price</th>\n",
       "    </tr>\n",
       "  </thead>\n",
       "  <tbody>\n",
       "    <tr>\n",
       "      <th>0</th>\n",
       "      <td>0</td>\n",
       "      <td>Apple</td>\n",
       "      <td>Ultrabook</td>\n",
       "      <td>13.3</td>\n",
       "      <td>IPS Panel Retina Display 2560x1600</td>\n",
       "      <td>Intel Core i5 2.3GHz</td>\n",
       "      <td>8GB</td>\n",
       "      <td>128GB SSD</td>\n",
       "      <td>Intel Iris Plus Graphics 640</td>\n",
       "      <td>macOS</td>\n",
       "      <td>1.37kg</td>\n",
       "      <td>71378.6832</td>\n",
       "    </tr>\n",
       "    <tr>\n",
       "      <th>1</th>\n",
       "      <td>1</td>\n",
       "      <td>Apple</td>\n",
       "      <td>Ultrabook</td>\n",
       "      <td>13.3</td>\n",
       "      <td>1440x900</td>\n",
       "      <td>Intel Core i5 1.8GHz</td>\n",
       "      <td>8GB</td>\n",
       "      <td>128GB Flash Storage</td>\n",
       "      <td>Intel HD Graphics 6000</td>\n",
       "      <td>macOS</td>\n",
       "      <td>1.34kg</td>\n",
       "      <td>47895.5232</td>\n",
       "    </tr>\n",
       "    <tr>\n",
       "      <th>2</th>\n",
       "      <td>2</td>\n",
       "      <td>HP</td>\n",
       "      <td>Notebook</td>\n",
       "      <td>15.6</td>\n",
       "      <td>Full HD 1920x1080</td>\n",
       "      <td>Intel Core i5 7200U 2.5GHz</td>\n",
       "      <td>8GB</td>\n",
       "      <td>256GB SSD</td>\n",
       "      <td>Intel HD Graphics 620</td>\n",
       "      <td>No OS</td>\n",
       "      <td>1.86kg</td>\n",
       "      <td>30636.0000</td>\n",
       "    </tr>\n",
       "    <tr>\n",
       "      <th>3</th>\n",
       "      <td>3</td>\n",
       "      <td>Apple</td>\n",
       "      <td>Ultrabook</td>\n",
       "      <td>15.4</td>\n",
       "      <td>IPS Panel Retina Display 2880x1800</td>\n",
       "      <td>Intel Core i7 2.7GHz</td>\n",
       "      <td>16GB</td>\n",
       "      <td>512GB SSD</td>\n",
       "      <td>AMD Radeon Pro 455</td>\n",
       "      <td>macOS</td>\n",
       "      <td>1.83kg</td>\n",
       "      <td>135195.3360</td>\n",
       "    </tr>\n",
       "    <tr>\n",
       "      <th>4</th>\n",
       "      <td>4</td>\n",
       "      <td>Apple</td>\n",
       "      <td>Ultrabook</td>\n",
       "      <td>13.3</td>\n",
       "      <td>IPS Panel Retina Display 2560x1600</td>\n",
       "      <td>Intel Core i5 3.1GHz</td>\n",
       "      <td>8GB</td>\n",
       "      <td>256GB SSD</td>\n",
       "      <td>Intel Iris Plus Graphics 650</td>\n",
       "      <td>macOS</td>\n",
       "      <td>1.37kg</td>\n",
       "      <td>96095.8080</td>\n",
       "    </tr>\n",
       "  </tbody>\n",
       "</table>\n",
       "</div>"
      ],
      "text/plain": [
       "   Unnamed: 0 Company   TypeName  Inches                    ScreenResolution  \\\n",
       "0           0   Apple  Ultrabook    13.3  IPS Panel Retina Display 2560x1600   \n",
       "1           1   Apple  Ultrabook    13.3                            1440x900   \n",
       "2           2      HP   Notebook    15.6                   Full HD 1920x1080   \n",
       "3           3   Apple  Ultrabook    15.4  IPS Panel Retina Display 2880x1800   \n",
       "4           4   Apple  Ultrabook    13.3  IPS Panel Retina Display 2560x1600   \n",
       "\n",
       "                          Cpu   Ram               Memory  \\\n",
       "0        Intel Core i5 2.3GHz   8GB            128GB SSD   \n",
       "1        Intel Core i5 1.8GHz   8GB  128GB Flash Storage   \n",
       "2  Intel Core i5 7200U 2.5GHz   8GB            256GB SSD   \n",
       "3        Intel Core i7 2.7GHz  16GB            512GB SSD   \n",
       "4        Intel Core i5 3.1GHz   8GB            256GB SSD   \n",
       "\n",
       "                            Gpu  OpSys  Weight        Price  \n",
       "0  Intel Iris Plus Graphics 640  macOS  1.37kg   71378.6832  \n",
       "1        Intel HD Graphics 6000  macOS  1.34kg   47895.5232  \n",
       "2         Intel HD Graphics 620  No OS  1.86kg   30636.0000  \n",
       "3            AMD Radeon Pro 455  macOS  1.83kg  135195.3360  \n",
       "4  Intel Iris Plus Graphics 650  macOS  1.37kg   96095.8080  "
      ]
     },
     "execution_count": 2,
     "metadata": {},
     "output_type": "execute_result"
    }
   ],
   "source": [
    "df = pd.read_csv('laptop_data.csv')\n",
    "df.head()"
   ]
  },
  {
   "cell_type": "code",
   "execution_count": 3,
   "id": "e079d2f8",
   "metadata": {},
   "outputs": [
    {
     "data": {
      "text/plain": [
       "(1303, 12)"
      ]
     },
     "execution_count": 3,
     "metadata": {},
     "output_type": "execute_result"
    }
   ],
   "source": [
    "df.shape"
   ]
  },
  {
   "cell_type": "code",
   "execution_count": 4,
   "id": "aab5ed50",
   "metadata": {},
   "outputs": [
    {
     "name": "stdout",
     "output_type": "stream",
     "text": [
      "<class 'pandas.core.frame.DataFrame'>\n",
      "RangeIndex: 1303 entries, 0 to 1302\n",
      "Data columns (total 12 columns):\n",
      " #   Column            Non-Null Count  Dtype  \n",
      "---  ------            --------------  -----  \n",
      " 0   Unnamed: 0        1303 non-null   int64  \n",
      " 1   Company           1303 non-null   object \n",
      " 2   TypeName          1303 non-null   object \n",
      " 3   Inches            1303 non-null   float64\n",
      " 4   ScreenResolution  1303 non-null   object \n",
      " 5   Cpu               1303 non-null   object \n",
      " 6   Ram               1303 non-null   object \n",
      " 7   Memory            1303 non-null   object \n",
      " 8   Gpu               1303 non-null   object \n",
      " 9   OpSys             1303 non-null   object \n",
      " 10  Weight            1303 non-null   object \n",
      " 11  Price             1303 non-null   float64\n",
      "dtypes: float64(2), int64(1), object(9)\n",
      "memory usage: 122.3+ KB\n"
     ]
    }
   ],
   "source": [
    "df.info()"
   ]
  },
  {
   "cell_type": "code",
   "execution_count": 5,
   "id": "f2a09db5",
   "metadata": {},
   "outputs": [
    {
     "data": {
      "text/plain": [
       "0"
      ]
     },
     "execution_count": 5,
     "metadata": {},
     "output_type": "execute_result"
    }
   ],
   "source": [
    "df.duplicated().sum()"
   ]
  },
  {
   "cell_type": "code",
   "execution_count": 6,
   "id": "a685c0a9",
   "metadata": {},
   "outputs": [
    {
     "data": {
      "text/plain": [
       "Unnamed: 0          0\n",
       "Company             0\n",
       "TypeName            0\n",
       "Inches              0\n",
       "ScreenResolution    0\n",
       "Cpu                 0\n",
       "Ram                 0\n",
       "Memory              0\n",
       "Gpu                 0\n",
       "OpSys               0\n",
       "Weight              0\n",
       "Price               0\n",
       "dtype: int64"
      ]
     },
     "execution_count": 6,
     "metadata": {},
     "output_type": "execute_result"
    }
   ],
   "source": [
    "df.isnull().sum()"
   ]
  },
  {
   "cell_type": "markdown",
   "id": "2147d219",
   "metadata": {},
   "source": [
    "### Data Preprocessing -"
   ]
  },
  {
   "cell_type": "code",
   "execution_count": 7,
   "id": "1559b4fe",
   "metadata": {},
   "outputs": [],
   "source": [
    "df.drop(columns=['Unnamed: 0'], inplace=True)"
   ]
  },
  {
   "cell_type": "code",
   "execution_count": 8,
   "id": "38106af2",
   "metadata": {},
   "outputs": [],
   "source": [
    "df['Ram'] = df['Ram'].str.replace('GB', '')"
   ]
  },
  {
   "cell_type": "code",
   "execution_count": 9,
   "id": "8d38a165",
   "metadata": {},
   "outputs": [],
   "source": [
    "df['Weight'] = df['Weight'].str.replace('kg', '')"
   ]
  },
  {
   "cell_type": "code",
   "execution_count": 10,
   "id": "3492716f",
   "metadata": {},
   "outputs": [
    {
     "data": {
      "text/html": [
       "<div>\n",
       "<style scoped>\n",
       "    .dataframe tbody tr th:only-of-type {\n",
       "        vertical-align: middle;\n",
       "    }\n",
       "\n",
       "    .dataframe tbody tr th {\n",
       "        vertical-align: top;\n",
       "    }\n",
       "\n",
       "    .dataframe thead th {\n",
       "        text-align: right;\n",
       "    }\n",
       "</style>\n",
       "<table border=\"1\" class=\"dataframe\">\n",
       "  <thead>\n",
       "    <tr style=\"text-align: right;\">\n",
       "      <th></th>\n",
       "      <th>Company</th>\n",
       "      <th>TypeName</th>\n",
       "      <th>Inches</th>\n",
       "      <th>ScreenResolution</th>\n",
       "      <th>Cpu</th>\n",
       "      <th>Ram</th>\n",
       "      <th>Memory</th>\n",
       "      <th>Gpu</th>\n",
       "      <th>OpSys</th>\n",
       "      <th>Weight</th>\n",
       "      <th>Price</th>\n",
       "    </tr>\n",
       "  </thead>\n",
       "  <tbody>\n",
       "    <tr>\n",
       "      <th>0</th>\n",
       "      <td>Apple</td>\n",
       "      <td>Ultrabook</td>\n",
       "      <td>13.3</td>\n",
       "      <td>IPS Panel Retina Display 2560x1600</td>\n",
       "      <td>Intel Core i5 2.3GHz</td>\n",
       "      <td>8</td>\n",
       "      <td>128GB SSD</td>\n",
       "      <td>Intel Iris Plus Graphics 640</td>\n",
       "      <td>macOS</td>\n",
       "      <td>1.37</td>\n",
       "      <td>71378.6832</td>\n",
       "    </tr>\n",
       "    <tr>\n",
       "      <th>1</th>\n",
       "      <td>Apple</td>\n",
       "      <td>Ultrabook</td>\n",
       "      <td>13.3</td>\n",
       "      <td>1440x900</td>\n",
       "      <td>Intel Core i5 1.8GHz</td>\n",
       "      <td>8</td>\n",
       "      <td>128GB Flash Storage</td>\n",
       "      <td>Intel HD Graphics 6000</td>\n",
       "      <td>macOS</td>\n",
       "      <td>1.34</td>\n",
       "      <td>47895.5232</td>\n",
       "    </tr>\n",
       "    <tr>\n",
       "      <th>2</th>\n",
       "      <td>HP</td>\n",
       "      <td>Notebook</td>\n",
       "      <td>15.6</td>\n",
       "      <td>Full HD 1920x1080</td>\n",
       "      <td>Intel Core i5 7200U 2.5GHz</td>\n",
       "      <td>8</td>\n",
       "      <td>256GB SSD</td>\n",
       "      <td>Intel HD Graphics 620</td>\n",
       "      <td>No OS</td>\n",
       "      <td>1.86</td>\n",
       "      <td>30636.0000</td>\n",
       "    </tr>\n",
       "    <tr>\n",
       "      <th>3</th>\n",
       "      <td>Apple</td>\n",
       "      <td>Ultrabook</td>\n",
       "      <td>15.4</td>\n",
       "      <td>IPS Panel Retina Display 2880x1800</td>\n",
       "      <td>Intel Core i7 2.7GHz</td>\n",
       "      <td>16</td>\n",
       "      <td>512GB SSD</td>\n",
       "      <td>AMD Radeon Pro 455</td>\n",
       "      <td>macOS</td>\n",
       "      <td>1.83</td>\n",
       "      <td>135195.3360</td>\n",
       "    </tr>\n",
       "    <tr>\n",
       "      <th>4</th>\n",
       "      <td>Apple</td>\n",
       "      <td>Ultrabook</td>\n",
       "      <td>13.3</td>\n",
       "      <td>IPS Panel Retina Display 2560x1600</td>\n",
       "      <td>Intel Core i5 3.1GHz</td>\n",
       "      <td>8</td>\n",
       "      <td>256GB SSD</td>\n",
       "      <td>Intel Iris Plus Graphics 650</td>\n",
       "      <td>macOS</td>\n",
       "      <td>1.37</td>\n",
       "      <td>96095.8080</td>\n",
       "    </tr>\n",
       "  </tbody>\n",
       "</table>\n",
       "</div>"
      ],
      "text/plain": [
       "  Company   TypeName  Inches                    ScreenResolution  \\\n",
       "0   Apple  Ultrabook    13.3  IPS Panel Retina Display 2560x1600   \n",
       "1   Apple  Ultrabook    13.3                            1440x900   \n",
       "2      HP   Notebook    15.6                   Full HD 1920x1080   \n",
       "3   Apple  Ultrabook    15.4  IPS Panel Retina Display 2880x1800   \n",
       "4   Apple  Ultrabook    13.3  IPS Panel Retina Display 2560x1600   \n",
       "\n",
       "                          Cpu Ram               Memory  \\\n",
       "0        Intel Core i5 2.3GHz   8            128GB SSD   \n",
       "1        Intel Core i5 1.8GHz   8  128GB Flash Storage   \n",
       "2  Intel Core i5 7200U 2.5GHz   8            256GB SSD   \n",
       "3        Intel Core i7 2.7GHz  16            512GB SSD   \n",
       "4        Intel Core i5 3.1GHz   8            256GB SSD   \n",
       "\n",
       "                            Gpu  OpSys Weight        Price  \n",
       "0  Intel Iris Plus Graphics 640  macOS   1.37   71378.6832  \n",
       "1        Intel HD Graphics 6000  macOS   1.34   47895.5232  \n",
       "2         Intel HD Graphics 620  No OS   1.86   30636.0000  \n",
       "3            AMD Radeon Pro 455  macOS   1.83  135195.3360  \n",
       "4  Intel Iris Plus Graphics 650  macOS   1.37   96095.8080  "
      ]
     },
     "execution_count": 10,
     "metadata": {},
     "output_type": "execute_result"
    }
   ],
   "source": [
    "df.head()"
   ]
  },
  {
   "cell_type": "code",
   "execution_count": 11,
   "id": "ec84b0ac",
   "metadata": {},
   "outputs": [],
   "source": [
    "df['Ram'] = df['Ram'].astype('int32')"
   ]
  },
  {
   "cell_type": "code",
   "execution_count": 12,
   "id": "c590602f",
   "metadata": {},
   "outputs": [],
   "source": [
    "df['Weight'] = df['Weight'].astype('float32')"
   ]
  },
  {
   "cell_type": "code",
   "execution_count": 13,
   "id": "62614892",
   "metadata": {},
   "outputs": [
    {
     "name": "stdout",
     "output_type": "stream",
     "text": [
      "<class 'pandas.core.frame.DataFrame'>\n",
      "RangeIndex: 1303 entries, 0 to 1302\n",
      "Data columns (total 11 columns):\n",
      " #   Column            Non-Null Count  Dtype  \n",
      "---  ------            --------------  -----  \n",
      " 0   Company           1303 non-null   object \n",
      " 1   TypeName          1303 non-null   object \n",
      " 2   Inches            1303 non-null   float64\n",
      " 3   ScreenResolution  1303 non-null   object \n",
      " 4   Cpu               1303 non-null   object \n",
      " 5   Ram               1303 non-null   int32  \n",
      " 6   Memory            1303 non-null   object \n",
      " 7   Gpu               1303 non-null   object \n",
      " 8   OpSys             1303 non-null   object \n",
      " 9   Weight            1303 non-null   float32\n",
      " 10  Price             1303 non-null   float64\n",
      "dtypes: float32(1), float64(2), int32(1), object(7)\n",
      "memory usage: 101.9+ KB\n"
     ]
    }
   ],
   "source": [
    "df.info()"
   ]
  },
  {
   "cell_type": "markdown",
   "id": "cd861b67",
   "metadata": {},
   "source": [
    "### Exploratory Data Analysis -"
   ]
  },
  {
   "cell_type": "code",
   "execution_count": 14,
   "id": "55e9aa85",
   "metadata": {},
   "outputs": [],
   "source": [
    "import seaborn as sns\n",
    "import matplotlib.pyplot as plt"
   ]
  },
  {
   "cell_type": "markdown",
   "id": "7af707bf",
   "metadata": {},
   "source": [
    "What is the Price range of Laptops?"
   ]
  },
  {
   "cell_type": "code",
   "execution_count": 15,
   "id": "f5b640e1",
   "metadata": {
    "scrolled": true
   },
   "outputs": [
    {
     "name": "stderr",
     "output_type": "stream",
     "text": [
      "C:\\Users\\Rakshita\\anaconda3\\lib\\site-packages\\seaborn\\distributions.py:2619: FutureWarning: `distplot` is a deprecated function and will be removed in a future version. Please adapt your code to use either `displot` (a figure-level function with similar flexibility) or `histplot` (an axes-level function for histograms).\n",
      "  warnings.warn(msg, FutureWarning)\n"
     ]
    },
    {
     "data": {
      "image/png": "[encoded data removed]",
      "text/plain": [
       "<Figure size 640x480 with 1 Axes>"
      ]
     },
     "metadata": {},
     "output_type": "display_data"
    }
   ],
   "source": [
    "sns.distplot(df.Price)\n",
    "plt.show()"
   ]
  },
  {
   "cell_type": "markdown",
   "id": "66c263ba",
   "metadata": {},
   "source": [
    "**Inference-**\n",
    "- The data is positively skewed.\n",
    "- There are more no. of laptops with low price and less no. of laptops with higher price.\n",
    "- Since laptop is a commodity, this observation is expected from customer's perspective.\n",
    "- Skewed data may cause problem in convergence of some algorithms, which we need to take care of."
   ]
  },
  {
   "cell_type": "markdown",
   "id": "95556d3f",
   "metadata": {},
   "source": [
    "How many laptops are from each Laptop Company?"
   ]
  },
  {
   "cell_type": "code",
   "execution_count": 16,
   "id": "3d23d5dd",
   "metadata": {
    "scrolled": true
   },
   "outputs": [
    {
     "data": {
      "image/png": "[encoded data removed]",
      "text/plain": [
       "<Figure size 640x480 with 1 Axes>"
      ]
     },
     "metadata": {},
     "output_type": "display_data"
    }
   ],
   "source": [
    "df['Company'].value_counts().plot(kind='bar')\n",
    "plt.show()"
   ]
  },
  {
   "cell_type": "markdown",
   "id": "d4b59d6a",
   "metadata": {},
   "source": [
    "**Inference-**\n",
    "- Most famous laptop brands are of Dell, Lenovo and HP.\n",
    "- Second most famous laptop brands are Asus, Acer, MSI, Toshiba, Apple and Samsung.\n",
    "- Other all brands are least famous in laptops industry."
   ]
  },
  {
   "cell_type": "markdown",
   "id": "10581ea1",
   "metadata": {},
   "source": [
    "What is the Average Price value of each Laptop Brand?"
   ]
  },
  {
   "cell_type": "code",
   "execution_count": 17,
   "id": "c1d2535f",
   "metadata": {},
   "outputs": [
    {
     "data": {
      "image/png": "[encoded data removed]",
      "text/plain": [
       "<Figure size 640x480 with 1 Axes>"
      ]
     },
     "metadata": {},
     "output_type": "display_data"
    }
   ],
   "source": [
    "sns.barplot(x=df.Company, y=df.Price)\n",
    "plt.xticks(rotation='vertical')\n",
    "plt.show()"
   ]
  },
  {
   "cell_type": "markdown",
   "id": "847594f8",
   "metadata": {},
   "source": [
    "**Inference-**\n",
    "- Apple, MSI, Microsoft, Razer, Google and LG laptops are highly expensive.\n",
    "- HP, Acer, Asus, Dell, Lenovo, Toshiba, Huawei, Xiaomi and Samsung laptops are budget friendly.\n",
    "- Chuwi, Vero, Mediacom and Fujitsu are some unpopular brands with cheapest Price."
   ]
  },
  {
   "cell_type": "markdown",
   "id": "deaeea6b",
   "metadata": {},
   "source": [
    "What are all the Types of Laptops?"
   ]
  },
  {
   "cell_type": "code",
   "execution_count": 18,
   "id": "fb256ffa",
   "metadata": {},
   "outputs": [
    {
     "data": {
      "image/png": "[encoded data removed]",
      "text/plain": [
       "<Figure size 640x480 with 1 Axes>"
      ]
     },
     "metadata": {},
     "output_type": "display_data"
    }
   ],
   "source": [
    "df['TypeName'].value_counts().plot(kind='bar')\n",
    "plt.show()"
   ]
  },
  {
   "cell_type": "markdown",
   "id": "5d7dae05",
   "metadata": {},
   "source": [
    "**Inference-**\n",
    "- Notebook is the most sold laptop type, since it is budget friendly, especially to students.\n",
    "- Gaming, Ultrabook and 2 in 1 Convertible laptops are not sold in large amount, since they're for specific purposes and little expensive.\n",
    "- Workstation is heavy duty laptop which is used by specific users.\n",
    "- Netbook is the cheapest laptop with less no. of configurations and it is not much used."
   ]
  },
  {
   "cell_type": "markdown",
   "id": "145aec19",
   "metadata": {},
   "source": [
    "What is the Average Price value of each Laptop Type?"
   ]
  },
  {
   "cell_type": "code",
   "execution_count": 19,
   "id": "659cf08e",
   "metadata": {},
   "outputs": [
    {
     "data": {
      "image/png": "[encoded data removed]",
      "text/plain": [
       "<Figure size 640x480 with 1 Axes>"
      ]
     },
     "metadata": {},
     "output_type": "display_data"
    }
   ],
   "source": [
    "sns.barplot(x=df.TypeName, y=df.Price)\n",
    "plt.xticks(rotation='vertical')\n",
    "plt.show()"
   ]
  },
  {
   "cell_type": "markdown",
   "id": "43b07bf0",
   "metadata": {},
   "source": [
    "**Inference-**\n",
    "- Workstation is most expensive type of laptop.\n",
    "- Gaming, Ultrabook and 2 in 1 Convertible laptops are not sold in large amount, since they're also expensive.\n",
    "- Notebook is quite as per customer's budget range.\n",
    "- Netbook is the cheapest laptop type.\n",
    "- Type of laptop is an important column to predict the price of laptops based on its type."
   ]
  },
  {
   "cell_type": "markdown",
   "id": "a7d61dcf",
   "metadata": {},
   "source": [
    "How is size of the Laptop affecting the Price?"
   ]
  },
  {
   "cell_type": "code",
   "execution_count": 20,
   "id": "5d382f5a",
   "metadata": {
    "scrolled": false
   },
   "outputs": [
    {
     "name": "stderr",
     "output_type": "stream",
     "text": [
      "C:\\Users\\Rakshita\\anaconda3\\lib\\site-packages\\seaborn\\distributions.py:2619: FutureWarning: `distplot` is a deprecated function and will be removed in a future version. Please adapt your code to use either `displot` (a figure-level function with similar flexibility) or `histplot` (an axes-level function for histograms).\n",
      "  warnings.warn(msg, FutureWarning)\n"
     ]
    },
    {
     "data": {
      "image/png": "[encoded data removed]",
      "text/plain": [
       "<Figure size 640x480 with 1 Axes>"
      ]
     },
     "metadata": {},
     "output_type": "display_data"
    }
   ],
   "source": [
    "sns.distplot(df.Inches)\n",
    "plt.show()"
   ]
  },
  {
   "cell_type": "code",
   "execution_count": 21,
   "id": "88496ac8",
   "metadata": {},
   "outputs": [
    {
     "data": {
      "image/png": "[encoded data removed]",
      "text/plain": [
       "<Figure size 640x480 with 1 Axes>"
      ]
     },
     "metadata": {},
     "output_type": "display_data"
    }
   ],
   "source": [
    "sns.scatterplot(x=df.Inches, y=df.Price)\n",
    "plt.show()"
   ]
  },
  {
   "cell_type": "markdown",
   "id": "76fbb8d6",
   "metadata": {},
   "source": [
    "**Inference-**\n",
    "- As the size of laptop increases, price also increases.\n",
    "- There is a slight correlation between size and price of laptops, but most of the laptops fall under a range where there is no effect of size of laptop on the price of laptop.\n",
    "- There is no strong correlation between Inches and Price of laptops, but still we can rely on this feature for now."
   ]
  },
  {
   "cell_type": "code",
   "execution_count": 22,
   "id": "9ab818df",
   "metadata": {},
   "outputs": [
    {
     "data": {
      "text/plain": [
       "Full HD 1920x1080                                507\n",
       "1366x768                                         281\n",
       "IPS Panel Full HD 1920x1080                      230\n",
       "IPS Panel Full HD / Touchscreen 1920x1080         53\n",
       "Full HD / Touchscreen 1920x1080                   47\n",
       "1600x900                                          23\n",
       "Touchscreen 1366x768                              16\n",
       "Quad HD+ / Touchscreen 3200x1800                  15\n",
       "IPS Panel 4K Ultra HD 3840x2160                   12\n",
       "IPS Panel 4K Ultra HD / Touchscreen 3840x2160     11\n",
       "4K Ultra HD / Touchscreen 3840x2160               10\n",
       "4K Ultra HD 3840x2160                              7\n",
       "Touchscreen 2560x1440                              7\n",
       "IPS Panel 1366x768                                 7\n",
       "IPS Panel Quad HD+ / Touchscreen 3200x1800         6\n",
       "IPS Panel Retina Display 2560x1600                 6\n",
       "IPS Panel Retina Display 2304x1440                 6\n",
       "Touchscreen 2256x1504                              6\n",
       "IPS Panel Touchscreen 2560x1440                    5\n",
       "IPS Panel Retina Display 2880x1800                 4\n",
       "IPS Panel Touchscreen 1920x1200                    4\n",
       "1440x900                                           4\n",
       "IPS Panel 2560x1440                                4\n",
       "IPS Panel Quad HD+ 2560x1440                       3\n",
       "Quad HD+ 3200x1800                                 3\n",
       "1920x1080                                          3\n",
       "Touchscreen 2400x1600                              3\n",
       "2560x1440                                          3\n",
       "IPS Panel Touchscreen 1366x768                     3\n",
       "IPS Panel Touchscreen / 4K Ultra HD 3840x2160      2\n",
       "IPS Panel Full HD 2160x1440                        2\n",
       "IPS Panel Quad HD+ 3200x1800                       2\n",
       "IPS Panel Retina Display 2736x1824                 1\n",
       "IPS Panel Full HD 1920x1200                        1\n",
       "IPS Panel Full HD 2560x1440                        1\n",
       "IPS Panel Full HD 1366x768                         1\n",
       "Touchscreen / Full HD 1920x1080                    1\n",
       "Touchscreen / Quad HD+ 3200x1800                   1\n",
       "Touchscreen / 4K Ultra HD 3840x2160                1\n",
       "IPS Panel Touchscreen 2400x1600                    1\n",
       "Name: ScreenResolution, dtype: int64"
      ]
     },
     "execution_count": 22,
     "metadata": {},
     "output_type": "execute_result"
    }
   ],
   "source": [
    "df.ScreenResolution.value_counts()"
   ]
  },
  {
   "cell_type": "markdown",
   "id": "db2c1f91",
   "metadata": {},
   "source": [
    "### Feature Engineering -"
   ]
  },
  {
   "cell_type": "markdown",
   "id": "aada8e8f",
   "metadata": {},
   "source": [
    "- Fetching information from ScreenResolution column."
   ]
  },
  {
   "cell_type": "code",
   "execution_count": 23,
   "id": "537cb5ad",
   "metadata": {},
   "outputs": [],
   "source": [
    "df['Touchscreen'] = df.ScreenResolution.apply(lambda x:1 if 'Touchscreen' in x else 0)"
   ]
  },
  {
   "cell_type": "code",
   "execution_count": 24,
   "id": "51effabf",
   "metadata": {},
   "outputs": [
    {
     "data": {
      "text/html": [
       "<div>\n",
       "<style scoped>\n",
       "    .dataframe tbody tr th:only-of-type {\n",
       "        vertical-align: middle;\n",
       "    }\n",
       "\n",
       "    .dataframe tbody tr th {\n",
       "        vertical-align: top;\n",
       "    }\n",
       "\n",
       "    .dataframe thead th {\n",
       "        text-align: right;\n",
       "    }\n",
       "</style>\n",
       "<table border=\"1\" class=\"dataframe\">\n",
       "  <thead>\n",
       "    <tr style=\"text-align: right;\">\n",
       "      <th></th>\n",
       "      <th>Company</th>\n",
       "      <th>TypeName</th>\n",
       "      <th>Inches</th>\n",
       "      <th>ScreenResolution</th>\n",
       "      <th>Cpu</th>\n",
       "      <th>Ram</th>\n",
       "      <th>Memory</th>\n",
       "      <th>Gpu</th>\n",
       "      <th>OpSys</th>\n",
       "      <th>Weight</th>\n",
       "      <th>Price</th>\n",
       "      <th>Touchscreen</th>\n",
       "    </tr>\n",
       "  </thead>\n",
       "  <tbody>\n",
       "    <tr>\n",
       "      <th>506</th>\n",
       "      <td>Asus</td>\n",
       "      <td>Notebook</td>\n",
       "      <td>15.6</td>\n",
       "      <td>Full HD 1920x1080</td>\n",
       "      <td>Intel Core i7 7500U 2.7GHz</td>\n",
       "      <td>8</td>\n",
       "      <td>256GB SSD +  1TB HDD</td>\n",
       "      <td>Intel HD Graphics 620</td>\n",
       "      <td>Windows 10</td>\n",
       "      <td>2.00</td>\n",
       "      <td>65214.7200</td>\n",
       "      <td>0</td>\n",
       "    </tr>\n",
       "    <tr>\n",
       "      <th>424</th>\n",
       "      <td>Dell</td>\n",
       "      <td>Gaming</td>\n",
       "      <td>17.3</td>\n",
       "      <td>IPS Panel 2560x1440</td>\n",
       "      <td>Intel Core i7 7820HK 2.9GHz</td>\n",
       "      <td>16</td>\n",
       "      <td>256GB SSD +  1TB HDD</td>\n",
       "      <td>Nvidia GeForce GTX 1070</td>\n",
       "      <td>Windows 10</td>\n",
       "      <td>4.42</td>\n",
       "      <td>149130.7200</td>\n",
       "      <td>0</td>\n",
       "    </tr>\n",
       "    <tr>\n",
       "      <th>833</th>\n",
       "      <td>Lenovo</td>\n",
       "      <td>Notebook</td>\n",
       "      <td>14.0</td>\n",
       "      <td>Full HD 1920x1080</td>\n",
       "      <td>Intel Core i5 6200U 2.3GHz</td>\n",
       "      <td>8</td>\n",
       "      <td>256GB SSD</td>\n",
       "      <td>Intel HD Graphics 520</td>\n",
       "      <td>Windows 10</td>\n",
       "      <td>1.70</td>\n",
       "      <td>63190.0800</td>\n",
       "      <td>0</td>\n",
       "    </tr>\n",
       "    <tr>\n",
       "      <th>1140</th>\n",
       "      <td>Lenovo</td>\n",
       "      <td>2 in 1 Convertible</td>\n",
       "      <td>14.0</td>\n",
       "      <td>IPS Panel Touchscreen 2560x1440</td>\n",
       "      <td>Intel Core i7 6600U 2.6GHz</td>\n",
       "      <td>16</td>\n",
       "      <td>512GB SSD</td>\n",
       "      <td>Intel HD Graphics 520</td>\n",
       "      <td>Windows 10</td>\n",
       "      <td>2.80</td>\n",
       "      <td>130003.2000</td>\n",
       "      <td>1</td>\n",
       "    </tr>\n",
       "    <tr>\n",
       "      <th>835</th>\n",
       "      <td>Dell</td>\n",
       "      <td>Gaming</td>\n",
       "      <td>15.6</td>\n",
       "      <td>Full HD 1920x1080</td>\n",
       "      <td>Intel Core i7 7700HQ 2.8GHz</td>\n",
       "      <td>16</td>\n",
       "      <td>256GB SSD +  1TB HDD</td>\n",
       "      <td>Nvidia GeForce GTX 1070</td>\n",
       "      <td>Windows 10</td>\n",
       "      <td>3.21</td>\n",
       "      <td>147832.2864</td>\n",
       "      <td>0</td>\n",
       "    </tr>\n",
       "  </tbody>\n",
       "</table>\n",
       "</div>"
      ],
      "text/plain": [
       "     Company            TypeName  Inches                 ScreenResolution  \\\n",
       "506     Asus            Notebook    15.6                Full HD 1920x1080   \n",
       "424     Dell              Gaming    17.3              IPS Panel 2560x1440   \n",
       "833   Lenovo            Notebook    14.0                Full HD 1920x1080   \n",
       "1140  Lenovo  2 in 1 Convertible    14.0  IPS Panel Touchscreen 2560x1440   \n",
       "835     Dell              Gaming    15.6                Full HD 1920x1080   \n",
       "\n",
       "                              Cpu  Ram                Memory  \\\n",
       "506    Intel Core i7 7500U 2.7GHz    8  256GB SSD +  1TB HDD   \n",
       "424   Intel Core i7 7820HK 2.9GHz   16  256GB SSD +  1TB HDD   \n",
       "833    Intel Core i5 6200U 2.3GHz    8             256GB SSD   \n",
       "1140   Intel Core i7 6600U 2.6GHz   16             512GB SSD   \n",
       "835   Intel Core i7 7700HQ 2.8GHz   16  256GB SSD +  1TB HDD   \n",
       "\n",
       "                          Gpu       OpSys  Weight        Price  Touchscreen  \n",
       "506     Intel HD Graphics 620  Windows 10    2.00   65214.7200            0  \n",
       "424   Nvidia GeForce GTX 1070  Windows 10    4.42  149130.7200            0  \n",
       "833     Intel HD Graphics 520  Windows 10    1.70   63190.0800            0  \n",
       "1140    Intel HD Graphics 520  Windows 10    2.80  130003.2000            1  \n",
       "835   Nvidia GeForce GTX 1070  Windows 10    3.21  147832.2864            0  "
      ]
     },
     "execution_count": 24,
     "metadata": {},
     "output_type": "execute_result"
    }
   ],
   "source": [
    "df.sample(5)"
   ]
  },
  {
   "cell_type": "code",
   "execution_count": 25,
   "id": "db1e1f9e",
   "metadata": {},
   "outputs": [
    {
     "data": {
      "image/png": "[encoded data removed]",
      "text/plain": [
       "<Figure size 640x480 with 1 Axes>"
      ]
     },
     "metadata": {},
     "output_type": "display_data"
    }
   ],
   "source": [
    "df.Touchscreen.value_counts().plot(kind='bar')\n",
    "plt.show()"
   ]
  },
  {
   "cell_type": "code",
   "execution_count": 26,
   "id": "29ac9465",
   "metadata": {
    "scrolled": true
   },
   "outputs": [
    {
     "data": {
      "image/png": "[encoded data removed]",
      "text/plain": [
       "<Figure size 640x480 with 1 Axes>"
      ]
     },
     "metadata": {},
     "output_type": "display_data"
    }
   ],
   "source": [
    "sns.barplot(x=df.Touchscreen, y=df.Price)\n",
    "plt.show()"
   ]
  },
  {
   "cell_type": "markdown",
   "id": "70307bc3",
   "metadata": {},
   "source": [
    "**Inference-**\n",
    "- There are very less no. of Touchscreen laptops compared to other laptops.\n",
    "- Touchscreen laptops are expensive compared to non-touchscreen laptops.\n",
    "- Hence, Touchscreen column is important for further analysis."
   ]
  },
  {
   "cell_type": "markdown",
   "id": "bf749092",
   "metadata": {},
   "source": [
    "Laptops have IPS Panel or not?"
   ]
  },
  {
   "cell_type": "code",
   "execution_count": 27,
   "id": "b99efbe6",
   "metadata": {},
   "outputs": [],
   "source": [
    "df['IPS'] = df.ScreenResolution.apply(lambda x:1 if 'IPS' in x else 0)"
   ]
  },
  {
   "cell_type": "code",
   "execution_count": 28,
   "id": "fc348438",
   "metadata": {},
   "outputs": [
    {
     "data": {
      "text/html": [
       "<div>\n",
       "<style scoped>\n",
       "    .dataframe tbody tr th:only-of-type {\n",
       "        vertical-align: middle;\n",
       "    }\n",
       "\n",
       "    .dataframe tbody tr th {\n",
       "        vertical-align: top;\n",
       "    }\n",
       "\n",
       "    .dataframe thead th {\n",
       "        text-align: right;\n",
       "    }\n",
       "</style>\n",
       "<table border=\"1\" class=\"dataframe\">\n",
       "  <thead>\n",
       "    <tr style=\"text-align: right;\">\n",
       "      <th></th>\n",
       "      <th>Company</th>\n",
       "      <th>TypeName</th>\n",
       "      <th>Inches</th>\n",
       "      <th>ScreenResolution</th>\n",
       "      <th>Cpu</th>\n",
       "      <th>Ram</th>\n",
       "      <th>Memory</th>\n",
       "      <th>Gpu</th>\n",
       "      <th>OpSys</th>\n",
       "      <th>Weight</th>\n",
       "      <th>Price</th>\n",
       "      <th>Touchscreen</th>\n",
       "      <th>IPS</th>\n",
       "    </tr>\n",
       "  </thead>\n",
       "  <tbody>\n",
       "    <tr>\n",
       "      <th>1253</th>\n",
       "      <td>Lenovo</td>\n",
       "      <td>Notebook</td>\n",
       "      <td>14.0</td>\n",
       "      <td>IPS Panel Full HD 1920x1080</td>\n",
       "      <td>Intel Core i5 6200U 2.3GHz</td>\n",
       "      <td>8</td>\n",
       "      <td>256GB SSD</td>\n",
       "      <td>Intel HD Graphics 520</td>\n",
       "      <td>Windows 10</td>\n",
       "      <td>1.9</td>\n",
       "      <td>57116.16</td>\n",
       "      <td>0</td>\n",
       "      <td>1</td>\n",
       "    </tr>\n",
       "    <tr>\n",
       "      <th>950</th>\n",
       "      <td>HP</td>\n",
       "      <td>Workstation</td>\n",
       "      <td>15.6</td>\n",
       "      <td>IPS Panel Full HD 1920x1080</td>\n",
       "      <td>Intel Core i7 6820HQ 2.7GHz</td>\n",
       "      <td>8</td>\n",
       "      <td>8GB SSD</td>\n",
       "      <td>Nvidia Quadro M1000M</td>\n",
       "      <td>Windows 10</td>\n",
       "      <td>2.0</td>\n",
       "      <td>119826.72</td>\n",
       "      <td>0</td>\n",
       "      <td>1</td>\n",
       "    </tr>\n",
       "    <tr>\n",
       "      <th>174</th>\n",
       "      <td>HP</td>\n",
       "      <td>Notebook</td>\n",
       "      <td>17.3</td>\n",
       "      <td>Full HD 1920x1080</td>\n",
       "      <td>Intel Core i5 8250U 1.6GHz</td>\n",
       "      <td>8</td>\n",
       "      <td>256GB SSD</td>\n",
       "      <td>Nvidia GeForce 930MX</td>\n",
       "      <td>Windows 10</td>\n",
       "      <td>2.5</td>\n",
       "      <td>49177.44</td>\n",
       "      <td>0</td>\n",
       "      <td>0</td>\n",
       "    </tr>\n",
       "    <tr>\n",
       "      <th>403</th>\n",
       "      <td>Acer</td>\n",
       "      <td>Notebook</td>\n",
       "      <td>15.6</td>\n",
       "      <td>Full HD 1920x1080</td>\n",
       "      <td>Intel Core i7 7700HQ 2.8GHz</td>\n",
       "      <td>8</td>\n",
       "      <td>256GB SSD</td>\n",
       "      <td>Nvidia GeForce GTX 1050</td>\n",
       "      <td>Linux</td>\n",
       "      <td>2.5</td>\n",
       "      <td>46833.12</td>\n",
       "      <td>0</td>\n",
       "      <td>0</td>\n",
       "    </tr>\n",
       "    <tr>\n",
       "      <th>1167</th>\n",
       "      <td>Lenovo</td>\n",
       "      <td>Notebook</td>\n",
       "      <td>15.6</td>\n",
       "      <td>Full HD 1920x1080</td>\n",
       "      <td>Intel Core i3 6006U 2GHz</td>\n",
       "      <td>4</td>\n",
       "      <td>1TB HDD</td>\n",
       "      <td>Nvidia GeForce 920MX</td>\n",
       "      <td>Windows 10</td>\n",
       "      <td>2.2</td>\n",
       "      <td>24935.04</td>\n",
       "      <td>0</td>\n",
       "      <td>0</td>\n",
       "    </tr>\n",
       "  </tbody>\n",
       "</table>\n",
       "</div>"
      ],
      "text/plain": [
       "     Company     TypeName  Inches             ScreenResolution  \\\n",
       "1253  Lenovo     Notebook    14.0  IPS Panel Full HD 1920x1080   \n",
       "950       HP  Workstation    15.6  IPS Panel Full HD 1920x1080   \n",
       "174       HP     Notebook    17.3            Full HD 1920x1080   \n",
       "403     Acer     Notebook    15.6            Full HD 1920x1080   \n",
       "1167  Lenovo     Notebook    15.6            Full HD 1920x1080   \n",
       "\n",
       "                              Cpu  Ram     Memory                      Gpu  \\\n",
       "1253   Intel Core i5 6200U 2.3GHz    8  256GB SSD    Intel HD Graphics 520   \n",
       "950   Intel Core i7 6820HQ 2.7GHz    8    8GB SSD     Nvidia Quadro M1000M   \n",
       "174    Intel Core i5 8250U 1.6GHz    8  256GB SSD     Nvidia GeForce 930MX   \n",
       "403   Intel Core i7 7700HQ 2.8GHz    8  256GB SSD  Nvidia GeForce GTX 1050   \n",
       "1167     Intel Core i3 6006U 2GHz    4    1TB HDD    Nvidia GeForce 920MX    \n",
       "\n",
       "           OpSys  Weight      Price  Touchscreen  IPS  \n",
       "1253  Windows 10     1.9   57116.16            0    1  \n",
       "950   Windows 10     2.0  119826.72            0    1  \n",
       "174   Windows 10     2.5   49177.44            0    0  \n",
       "403        Linux     2.5   46833.12            0    0  \n",
       "1167  Windows 10     2.2   24935.04            0    0  "
      ]
     },
     "execution_count": 28,
     "metadata": {},
     "output_type": "execute_result"
    }
   ],
   "source": [
    "df.sample(5)"
   ]
  },
  {
   "cell_type": "code",
   "execution_count": 29,
   "id": "ad6879de",
   "metadata": {},
   "outputs": [
    {
     "data": {
      "image/png": "[encoded data removed]",
      "text/plain": [
       "<Figure size 640x480 with 1 Axes>"
      ]
     },
     "metadata": {},
     "output_type": "display_data"
    }
   ],
   "source": [
    "df.IPS.value_counts().plot(kind='bar')\n",
    "plt.show()"
   ]
  },
  {
   "cell_type": "code",
   "execution_count": 30,
   "id": "bde7738e",
   "metadata": {},
   "outputs": [
    {
     "data": {
      "image/png": "[encoded data removed]",
      "text/plain": [
       "<Figure size 640x480 with 1 Axes>"
      ]
     },
     "metadata": {},
     "output_type": "display_data"
    }
   ],
   "source": [
    "sns.barplot(x=df.IPS, y=df.Price)\n",
    "plt.show()"
   ]
  },
  {
   "cell_type": "markdown",
   "id": "314d9537",
   "metadata": {},
   "source": [
    "**Inference-**\n",
    "- There are very less no. of IPS Panel laptops compared to other laptops.\n",
    "- IPS Panel laptops are expensive compared to non-touchscreen laptops.\n",
    "- Hence, IPS column is important for further analysis."
   ]
  },
  {
   "cell_type": "code",
   "execution_count": 31,
   "id": "7babe18d",
   "metadata": {},
   "outputs": [],
   "source": [
    "new = df['ScreenResolution'].str.split('x', n=1, expand=True)"
   ]
  },
  {
   "cell_type": "code",
   "execution_count": 32,
   "id": "78dc4ad0",
   "metadata": {},
   "outputs": [],
   "source": [
    "df['X_Resolution'] = new[0]\n",
    "df['Y_Resolution'] = new[1]"
   ]
  },
  {
   "cell_type": "code",
   "execution_count": 33,
   "id": "910c9a34",
   "metadata": {},
   "outputs": [
    {
     "data": {
      "text/html": [
       "<div>\n",
       "<style scoped>\n",
       "    .dataframe tbody tr th:only-of-type {\n",
       "        vertical-align: middle;\n",
       "    }\n",
       "\n",
       "    .dataframe tbody tr th {\n",
       "        vertical-align: top;\n",
       "    }\n",
       "\n",
       "    .dataframe thead th {\n",
       "        text-align: right;\n",
       "    }\n",
       "</style>\n",
       "<table border=\"1\" class=\"dataframe\">\n",
       "  <thead>\n",
       "    <tr style=\"text-align: right;\">\n",
       "      <th></th>\n",
       "      <th>Company</th>\n",
       "      <th>TypeName</th>\n",
       "      <th>Inches</th>\n",
       "      <th>ScreenResolution</th>\n",
       "      <th>Cpu</th>\n",
       "      <th>Ram</th>\n",
       "      <th>Memory</th>\n",
       "      <th>Gpu</th>\n",
       "      <th>OpSys</th>\n",
       "      <th>Weight</th>\n",
       "      <th>Price</th>\n",
       "      <th>Touchscreen</th>\n",
       "      <th>IPS</th>\n",
       "      <th>X_Resolution</th>\n",
       "      <th>Y_Resolution</th>\n",
       "    </tr>\n",
       "  </thead>\n",
       "  <tbody>\n",
       "    <tr>\n",
       "      <th>962</th>\n",
       "      <td>Acer</td>\n",
       "      <td>Notebook</td>\n",
       "      <td>15.6</td>\n",
       "      <td>Full HD 1920x1080</td>\n",
       "      <td>Intel Core i5 7200U 2.5GHz</td>\n",
       "      <td>12</td>\n",
       "      <td>128GB SSD +  1TB HDD</td>\n",
       "      <td>Nvidia GeForce GTX 950M</td>\n",
       "      <td>Windows 10</td>\n",
       "      <td>2.40</td>\n",
       "      <td>53759.5200</td>\n",
       "      <td>0</td>\n",
       "      <td>0</td>\n",
       "      <td>Full HD 1920</td>\n",
       "      <td>1080</td>\n",
       "    </tr>\n",
       "    <tr>\n",
       "      <th>858</th>\n",
       "      <td>Dell</td>\n",
       "      <td>Notebook</td>\n",
       "      <td>13.3</td>\n",
       "      <td>Full HD / Touchscreen 1920x1080</td>\n",
       "      <td>Intel Core i5 6200U 2.3GHz</td>\n",
       "      <td>8</td>\n",
       "      <td>1TB HDD</td>\n",
       "      <td>Intel HD Graphics 520</td>\n",
       "      <td>Windows 10</td>\n",
       "      <td>1.62</td>\n",
       "      <td>34578.7200</td>\n",
       "      <td>1</td>\n",
       "      <td>0</td>\n",
       "      <td>Full HD / Touchscreen 1920</td>\n",
       "      <td>1080</td>\n",
       "    </tr>\n",
       "    <tr>\n",
       "      <th>228</th>\n",
       "      <td>Asus</td>\n",
       "      <td>Notebook</td>\n",
       "      <td>17.3</td>\n",
       "      <td>Full HD 1920x1080</td>\n",
       "      <td>Intel Core i5 7200U 2.5GHz</td>\n",
       "      <td>8</td>\n",
       "      <td>256GB SSD +  500GB HDD</td>\n",
       "      <td>Nvidia GeForce GTX 950M</td>\n",
       "      <td>Windows 10</td>\n",
       "      <td>2.69</td>\n",
       "      <td>47472.4800</td>\n",
       "      <td>0</td>\n",
       "      <td>0</td>\n",
       "      <td>Full HD 1920</td>\n",
       "      <td>1080</td>\n",
       "    </tr>\n",
       "    <tr>\n",
       "      <th>52</th>\n",
       "      <td>HP</td>\n",
       "      <td>Notebook</td>\n",
       "      <td>15.6</td>\n",
       "      <td>Full HD 1920x1080</td>\n",
       "      <td>AMD A6-Series 9220 2.5GHz</td>\n",
       "      <td>4</td>\n",
       "      <td>256GB SSD</td>\n",
       "      <td>AMD Radeon R4 Graphics</td>\n",
       "      <td>Windows 10</td>\n",
       "      <td>1.86</td>\n",
       "      <td>21231.5472</td>\n",
       "      <td>0</td>\n",
       "      <td>0</td>\n",
       "      <td>Full HD 1920</td>\n",
       "      <td>1080</td>\n",
       "    </tr>\n",
       "    <tr>\n",
       "      <th>616</th>\n",
       "      <td>Dell</td>\n",
       "      <td>Notebook</td>\n",
       "      <td>15.6</td>\n",
       "      <td>Full HD 1920x1080</td>\n",
       "      <td>Intel Core i5 7200U 2.5GHz</td>\n",
       "      <td>4</td>\n",
       "      <td>128GB SSD</td>\n",
       "      <td>AMD Radeon R5 M420</td>\n",
       "      <td>Linux</td>\n",
       "      <td>2.18</td>\n",
       "      <td>30316.3200</td>\n",
       "      <td>0</td>\n",
       "      <td>0</td>\n",
       "      <td>Full HD 1920</td>\n",
       "      <td>1080</td>\n",
       "    </tr>\n",
       "  </tbody>\n",
       "</table>\n",
       "</div>"
      ],
      "text/plain": [
       "    Company  TypeName  Inches                 ScreenResolution  \\\n",
       "962    Acer  Notebook    15.6                Full HD 1920x1080   \n",
       "858    Dell  Notebook    13.3  Full HD / Touchscreen 1920x1080   \n",
       "228    Asus  Notebook    17.3                Full HD 1920x1080   \n",
       "52       HP  Notebook    15.6                Full HD 1920x1080   \n",
       "616    Dell  Notebook    15.6                Full HD 1920x1080   \n",
       "\n",
       "                            Cpu  Ram                  Memory  \\\n",
       "962  Intel Core i5 7200U 2.5GHz   12    128GB SSD +  1TB HDD   \n",
       "858  Intel Core i5 6200U 2.3GHz    8                 1TB HDD   \n",
       "228  Intel Core i5 7200U 2.5GHz    8  256GB SSD +  500GB HDD   \n",
       "52    AMD A6-Series 9220 2.5GHz    4               256GB SSD   \n",
       "616  Intel Core i5 7200U 2.5GHz    4               128GB SSD   \n",
       "\n",
       "                         Gpu       OpSys  Weight       Price  Touchscreen  \\\n",
       "962  Nvidia GeForce GTX 950M  Windows 10    2.40  53759.5200            0   \n",
       "858    Intel HD Graphics 520  Windows 10    1.62  34578.7200            1   \n",
       "228  Nvidia GeForce GTX 950M  Windows 10    2.69  47472.4800            0   \n",
       "52    AMD Radeon R4 Graphics  Windows 10    1.86  21231.5472            0   \n",
       "616       AMD Radeon R5 M420       Linux    2.18  30316.3200            0   \n",
       "\n",
       "     IPS                X_Resolution Y_Resolution  \n",
       "962    0                Full HD 1920         1080  \n",
       "858    0  Full HD / Touchscreen 1920         1080  \n",
       "228    0                Full HD 1920         1080  \n",
       "52     0                Full HD 1920         1080  \n",
       "616    0                Full HD 1920         1080  "
      ]
     },
     "execution_count": 33,
     "metadata": {},
     "output_type": "execute_result"
    }
   ],
   "source": [
    "df.sample(5)"
   ]
  },
  {
   "cell_type": "code",
   "execution_count": 34,
   "id": "7f11a7cf",
   "metadata": {},
   "outputs": [],
   "source": [
    "df['X_Resolution'] = df['X_Resolution'].str.replace(',','').str.findall(r'(\\d+\\.?\\d+)').apply(lambda x:x[0])"
   ]
  },
  {
   "cell_type": "code",
   "execution_count": 35,
   "id": "bee068b0",
   "metadata": {},
   "outputs": [
    {
     "data": {
      "text/html": [
       "<div>\n",
       "<style scoped>\n",
       "    .dataframe tbody tr th:only-of-type {\n",
       "        vertical-align: middle;\n",
       "    }\n",
       "\n",
       "    .dataframe tbody tr th {\n",
       "        vertical-align: top;\n",
       "    }\n",
       "\n",
       "    .dataframe thead th {\n",
       "        text-align: right;\n",
       "    }\n",
       "</style>\n",
       "<table border=\"1\" class=\"dataframe\">\n",
       "  <thead>\n",
       "    <tr style=\"text-align: right;\">\n",
       "      <th></th>\n",
       "      <th>Company</th>\n",
       "      <th>TypeName</th>\n",
       "      <th>Inches</th>\n",
       "      <th>ScreenResolution</th>\n",
       "      <th>Cpu</th>\n",
       "      <th>Ram</th>\n",
       "      <th>Memory</th>\n",
       "      <th>Gpu</th>\n",
       "      <th>OpSys</th>\n",
       "      <th>Weight</th>\n",
       "      <th>Price</th>\n",
       "      <th>Touchscreen</th>\n",
       "      <th>IPS</th>\n",
       "      <th>X_Resolution</th>\n",
       "      <th>Y_Resolution</th>\n",
       "    </tr>\n",
       "  </thead>\n",
       "  <tbody>\n",
       "    <tr>\n",
       "      <th>0</th>\n",
       "      <td>Apple</td>\n",
       "      <td>Ultrabook</td>\n",
       "      <td>13.3</td>\n",
       "      <td>IPS Panel Retina Display 2560x1600</td>\n",
       "      <td>Intel Core i5 2.3GHz</td>\n",
       "      <td>8</td>\n",
       "      <td>128GB SSD</td>\n",
       "      <td>Intel Iris Plus Graphics 640</td>\n",
       "      <td>macOS</td>\n",
       "      <td>1.37</td>\n",
       "      <td>71378.6832</td>\n",
       "      <td>0</td>\n",
       "      <td>1</td>\n",
       "      <td>2560</td>\n",
       "      <td>1600</td>\n",
       "    </tr>\n",
       "    <tr>\n",
       "      <th>1</th>\n",
       "      <td>Apple</td>\n",
       "      <td>Ultrabook</td>\n",
       "      <td>13.3</td>\n",
       "      <td>1440x900</td>\n",
       "      <td>Intel Core i5 1.8GHz</td>\n",
       "      <td>8</td>\n",
       "      <td>128GB Flash Storage</td>\n",
       "      <td>Intel HD Graphics 6000</td>\n",
       "      <td>macOS</td>\n",
       "      <td>1.34</td>\n",
       "      <td>47895.5232</td>\n",
       "      <td>0</td>\n",
       "      <td>0</td>\n",
       "      <td>1440</td>\n",
       "      <td>900</td>\n",
       "    </tr>\n",
       "    <tr>\n",
       "      <th>2</th>\n",
       "      <td>HP</td>\n",
       "      <td>Notebook</td>\n",
       "      <td>15.6</td>\n",
       "      <td>Full HD 1920x1080</td>\n",
       "      <td>Intel Core i5 7200U 2.5GHz</td>\n",
       "      <td>8</td>\n",
       "      <td>256GB SSD</td>\n",
       "      <td>Intel HD Graphics 620</td>\n",
       "      <td>No OS</td>\n",
       "      <td>1.86</td>\n",
       "      <td>30636.0000</td>\n",
       "      <td>0</td>\n",
       "      <td>0</td>\n",
       "      <td>1920</td>\n",
       "      <td>1080</td>\n",
       "    </tr>\n",
       "    <tr>\n",
       "      <th>3</th>\n",
       "      <td>Apple</td>\n",
       "      <td>Ultrabook</td>\n",
       "      <td>15.4</td>\n",
       "      <td>IPS Panel Retina Display 2880x1800</td>\n",
       "      <td>Intel Core i7 2.7GHz</td>\n",
       "      <td>16</td>\n",
       "      <td>512GB SSD</td>\n",
       "      <td>AMD Radeon Pro 455</td>\n",
       "      <td>macOS</td>\n",
       "      <td>1.83</td>\n",
       "      <td>135195.3360</td>\n",
       "      <td>0</td>\n",
       "      <td>1</td>\n",
       "      <td>2880</td>\n",
       "      <td>1800</td>\n",
       "    </tr>\n",
       "    <tr>\n",
       "      <th>4</th>\n",
       "      <td>Apple</td>\n",
       "      <td>Ultrabook</td>\n",
       "      <td>13.3</td>\n",
       "      <td>IPS Panel Retina Display 2560x1600</td>\n",
       "      <td>Intel Core i5 3.1GHz</td>\n",
       "      <td>8</td>\n",
       "      <td>256GB SSD</td>\n",
       "      <td>Intel Iris Plus Graphics 650</td>\n",
       "      <td>macOS</td>\n",
       "      <td>1.37</td>\n",
       "      <td>96095.8080</td>\n",
       "      <td>0</td>\n",
       "      <td>1</td>\n",
       "      <td>2560</td>\n",
       "      <td>1600</td>\n",
       "    </tr>\n",
       "  </tbody>\n",
       "</table>\n",
       "</div>"
      ],
      "text/plain": [
       "  Company   TypeName  Inches                    ScreenResolution  \\\n",
       "0   Apple  Ultrabook    13.3  IPS Panel Retina Display 2560x1600   \n",
       "1   Apple  Ultrabook    13.3                            1440x900   \n",
       "2      HP   Notebook    15.6                   Full HD 1920x1080   \n",
       "3   Apple  Ultrabook    15.4  IPS Panel Retina Display 2880x1800   \n",
       "4   Apple  Ultrabook    13.3  IPS Panel Retina Display 2560x1600   \n",
       "\n",
       "                          Cpu  Ram               Memory  \\\n",
       "0        Intel Core i5 2.3GHz    8            128GB SSD   \n",
       "1        Intel Core i5 1.8GHz    8  128GB Flash Storage   \n",
       "2  Intel Core i5 7200U 2.5GHz    8            256GB SSD   \n",
       "3        Intel Core i7 2.7GHz   16            512GB SSD   \n",
       "4        Intel Core i5 3.1GHz    8            256GB SSD   \n",
       "\n",
       "                            Gpu  OpSys  Weight        Price  Touchscreen  IPS  \\\n",
       "0  Intel Iris Plus Graphics 640  macOS    1.37   71378.6832            0    1   \n",
       "1        Intel HD Graphics 6000  macOS    1.34   47895.5232            0    0   \n",
       "2         Intel HD Graphics 620  No OS    1.86   30636.0000            0    0   \n",
       "3            AMD Radeon Pro 455  macOS    1.83  135195.3360            0    1   \n",
       "4  Intel Iris Plus Graphics 650  macOS    1.37   96095.8080            0    1   \n",
       "\n",
       "  X_Resolution Y_Resolution  \n",
       "0         2560         1600  \n",
       "1         1440          900  \n",
       "2         1920         1080  \n",
       "3         2880         1800  \n",
       "4         2560         1600  "
      ]
     },
     "execution_count": 35,
     "metadata": {},
     "output_type": "execute_result"
    }
   ],
   "source": [
    "df.head()"
   ]
  },
  {
   "cell_type": "code",
   "execution_count": 36,
   "id": "0012d268",
   "metadata": {},
   "outputs": [
    {
     "name": "stdout",
     "output_type": "stream",
     "text": [
      "<class 'pandas.core.frame.DataFrame'>\n",
      "RangeIndex: 1303 entries, 0 to 1302\n",
      "Data columns (total 15 columns):\n",
      " #   Column            Non-Null Count  Dtype  \n",
      "---  ------            --------------  -----  \n",
      " 0   Company           1303 non-null   object \n",
      " 1   TypeName          1303 non-null   object \n",
      " 2   Inches            1303 non-null   float64\n",
      " 3   ScreenResolution  1303 non-null   object \n",
      " 4   Cpu               1303 non-null   object \n",
      " 5   Ram               1303 non-null   int32  \n",
      " 6   Memory            1303 non-null   object \n",
      " 7   Gpu               1303 non-null   object \n",
      " 8   OpSys             1303 non-null   object \n",
      " 9   Weight            1303 non-null   float32\n",
      " 10  Price             1303 non-null   float64\n",
      " 11  Touchscreen       1303 non-null   int64  \n",
      " 12  IPS               1303 non-null   int64  \n",
      " 13  X_Resolution      1303 non-null   object \n",
      " 14  Y_Resolution      1303 non-null   object \n",
      "dtypes: float32(1), float64(2), int32(1), int64(2), object(9)\n",
      "memory usage: 142.6+ KB\n"
     ]
    }
   ],
   "source": [
    "df.info()"
   ]
  },
  {
   "cell_type": "code",
   "execution_count": 37,
   "id": "56d63f19",
   "metadata": {},
   "outputs": [],
   "source": [
    "df['X_Resolution'] = df.X_Resolution.astype('int')\n",
    "df['Y_Resolution'] = df.Y_Resolution.astype('int')"
   ]
  },
  {
   "cell_type": "code",
   "execution_count": 38,
   "id": "d5719b85",
   "metadata": {},
   "outputs": [
    {
     "name": "stdout",
     "output_type": "stream",
     "text": [
      "<class 'pandas.core.frame.DataFrame'>\n",
      "RangeIndex: 1303 entries, 0 to 1302\n",
      "Data columns (total 15 columns):\n",
      " #   Column            Non-Null Count  Dtype  \n",
      "---  ------            --------------  -----  \n",
      " 0   Company           1303 non-null   object \n",
      " 1   TypeName          1303 non-null   object \n",
      " 2   Inches            1303 non-null   float64\n",
      " 3   ScreenResolution  1303 non-null   object \n",
      " 4   Cpu               1303 non-null   object \n",
      " 5   Ram               1303 non-null   int32  \n",
      " 6   Memory            1303 non-null   object \n",
      " 7   Gpu               1303 non-null   object \n",
      " 8   OpSys             1303 non-null   object \n",
      " 9   Weight            1303 non-null   float32\n",
      " 10  Price             1303 non-null   float64\n",
      " 11  Touchscreen       1303 non-null   int64  \n",
      " 12  IPS               1303 non-null   int64  \n",
      " 13  X_Resolution      1303 non-null   int32  \n",
      " 14  Y_Resolution      1303 non-null   int32  \n",
      "dtypes: float32(1), float64(2), int32(3), int64(2), object(7)\n",
      "memory usage: 132.5+ KB\n"
     ]
    }
   ],
   "source": [
    "df.info()"
   ]
  },
  {
   "cell_type": "code",
   "execution_count": 39,
   "id": "9efaf7c8",
   "metadata": {},
   "outputs": [
    {
     "data": {
      "text/plain": [
       "Inches          0.068197\n",
       "Ram             0.743007\n",
       "Weight          0.210370\n",
       "Price           1.000000\n",
       "Touchscreen     0.191226\n",
       "IPS             0.252208\n",
       "X_Resolution    0.556529\n",
       "Y_Resolution    0.552809\n",
       "Name: Price, dtype: float64"
      ]
     },
     "execution_count": 39,
     "metadata": {},
     "output_type": "execute_result"
    }
   ],
   "source": [
    "df.corr()['Price']"
   ]
  },
  {
   "cell_type": "markdown",
   "id": "6d66e168",
   "metadata": {},
   "source": [
    "**Inference-**\n",
    "- Inches, Weight, Touchscreen and IPS has less correlation with the price of laptops.\n",
    "- RAM, X_Resolution and Y_Resolution has good correlation with price of laptops.\n",
    "- I will create a new column - **Pixels per inches (PPI)** using Inches, X_Resolution and Y_Resolution, to reduce multicolinearity between X_Resolution and Y_Resolution, and make better use of Inches column."
   ]
  },
  {
   "cell_type": "code",
   "execution_count": 40,
   "id": "8ef8c92a",
   "metadata": {},
   "outputs": [],
   "source": [
    "df['PPI'] = (((df.X_Resolution**2) + (df.Y_Resolution**2))*0.5/df.Inches).astype('float')"
   ]
  },
  {
   "cell_type": "code",
   "execution_count": 41,
   "id": "f6822166",
   "metadata": {},
   "outputs": [
    {
     "data": {
      "text/plain": [
       "Inches          0.068197\n",
       "Ram             0.743007\n",
       "Weight          0.210370\n",
       "Price           1.000000\n",
       "Touchscreen     0.191226\n",
       "IPS             0.252208\n",
       "X_Resolution    0.556529\n",
       "Y_Resolution    0.552809\n",
       "PPI             0.480017\n",
       "Name: Price, dtype: float64"
      ]
     },
     "execution_count": 41,
     "metadata": {},
     "output_type": "execute_result"
    }
   ],
   "source": [
    "df.corr()['Price']"
   ]
  },
  {
   "cell_type": "markdown",
   "id": "e641a4cc",
   "metadata": {},
   "source": [
    "**Inference-**\n",
    "- As we can see, PPI has good correlation with Price of laptops, which contains all the required information from ScreenResolution column.\n",
    "- Now we can drop ScreenResolution column."
   ]
  },
  {
   "cell_type": "code",
   "execution_count": 42,
   "id": "29352a8d",
   "metadata": {},
   "outputs": [],
   "source": [
    "df.drop(columns=['ScreenResolution'], inplace=True)"
   ]
  },
  {
   "cell_type": "code",
   "execution_count": 43,
   "id": "3fb88fad",
   "metadata": {},
   "outputs": [],
   "source": [
    "df.drop(columns=['Inches', 'X_Resolution', 'Y_Resolution'], inplace=True)"
   ]
  },
  {
   "cell_type": "code",
   "execution_count": 44,
   "id": "17c171c0",
   "metadata": {},
   "outputs": [
    {
     "data": {
      "text/html": [
       "<div>\n",
       "<style scoped>\n",
       "    .dataframe tbody tr th:only-of-type {\n",
       "        vertical-align: middle;\n",
       "    }\n",
       "\n",
       "    .dataframe tbody tr th {\n",
       "        vertical-align: top;\n",
       "    }\n",
       "\n",
       "    .dataframe thead th {\n",
       "        text-align: right;\n",
       "    }\n",
       "</style>\n",
       "<table border=\"1\" class=\"dataframe\">\n",
       "  <thead>\n",
       "    <tr style=\"text-align: right;\">\n",
       "      <th></th>\n",
       "      <th>Company</th>\n",
       "      <th>TypeName</th>\n",
       "      <th>Cpu</th>\n",
       "      <th>Ram</th>\n",
       "      <th>Memory</th>\n",
       "      <th>Gpu</th>\n",
       "      <th>OpSys</th>\n",
       "      <th>Weight</th>\n",
       "      <th>Price</th>\n",
       "      <th>Touchscreen</th>\n",
       "      <th>IPS</th>\n",
       "      <th>PPI</th>\n",
       "    </tr>\n",
       "  </thead>\n",
       "  <tbody>\n",
       "    <tr>\n",
       "      <th>229</th>\n",
       "      <td>HP</td>\n",
       "      <td>Notebook</td>\n",
       "      <td>Intel Core i7 7500U 2.7GHz</td>\n",
       "      <td>8</td>\n",
       "      <td>1TB HDD</td>\n",
       "      <td>AMD FirePro W4190M</td>\n",
       "      <td>Windows 10</td>\n",
       "      <td>1.90</td>\n",
       "      <td>67612.3200</td>\n",
       "      <td>0</td>\n",
       "      <td>0</td>\n",
       "      <td>155538.461538</td>\n",
       "    </tr>\n",
       "    <tr>\n",
       "      <th>1136</th>\n",
       "      <td>HP</td>\n",
       "      <td>Workstation</td>\n",
       "      <td>Intel Core i7 6700HQ 2.6GHz</td>\n",
       "      <td>8</td>\n",
       "      <td>256GB SSD</td>\n",
       "      <td>Nvidia Quadro M3000M</td>\n",
       "      <td>Windows 7</td>\n",
       "      <td>3.00</td>\n",
       "      <td>210424.0320</td>\n",
       "      <td>0</td>\n",
       "      <td>1</td>\n",
       "      <td>140254.335260</td>\n",
       "    </tr>\n",
       "    <tr>\n",
       "      <th>44</th>\n",
       "      <td>Dell</td>\n",
       "      <td>2 in 1 Convertible</td>\n",
       "      <td>Intel Core i5 8250U 1.6GHz</td>\n",
       "      <td>12</td>\n",
       "      <td>1TB HDD</td>\n",
       "      <td>Nvidia GeForce 150MX</td>\n",
       "      <td>Windows 10</td>\n",
       "      <td>2.77</td>\n",
       "      <td>53226.7200</td>\n",
       "      <td>1</td>\n",
       "      <td>0</td>\n",
       "      <td>140254.335260</td>\n",
       "    </tr>\n",
       "    <tr>\n",
       "      <th>1132</th>\n",
       "      <td>Asus</td>\n",
       "      <td>Notebook</td>\n",
       "      <td>Intel Celeron Dual Core N3350 1.1GHz</td>\n",
       "      <td>4</td>\n",
       "      <td>32GB Flash Storage</td>\n",
       "      <td>Intel HD Graphics 500</td>\n",
       "      <td>Windows 10</td>\n",
       "      <td>1.50</td>\n",
       "      <td>14811.8400</td>\n",
       "      <td>0</td>\n",
       "      <td>0</td>\n",
       "      <td>87706.428571</td>\n",
       "    </tr>\n",
       "    <tr>\n",
       "      <th>728</th>\n",
       "      <td>Dell</td>\n",
       "      <td>Notebook</td>\n",
       "      <td>Intel Core i5 7200U 2.5GHz</td>\n",
       "      <td>8</td>\n",
       "      <td>1TB HDD</td>\n",
       "      <td>AMD Radeon R7 M445</td>\n",
       "      <td>Linux</td>\n",
       "      <td>2.32</td>\n",
       "      <td>31409.6256</td>\n",
       "      <td>0</td>\n",
       "      <td>0</td>\n",
       "      <td>78710.897436</td>\n",
       "    </tr>\n",
       "  </tbody>\n",
       "</table>\n",
       "</div>"
      ],
      "text/plain": [
       "     Company            TypeName                                   Cpu  Ram  \\\n",
       "229       HP            Notebook            Intel Core i7 7500U 2.7GHz    8   \n",
       "1136      HP         Workstation           Intel Core i7 6700HQ 2.6GHz    8   \n",
       "44      Dell  2 in 1 Convertible            Intel Core i5 8250U 1.6GHz   12   \n",
       "1132    Asus            Notebook  Intel Celeron Dual Core N3350 1.1GHz    4   \n",
       "728     Dell            Notebook            Intel Core i5 7200U 2.5GHz    8   \n",
       "\n",
       "                  Memory                    Gpu       OpSys  Weight  \\\n",
       "229              1TB HDD    AMD FirePro W4190M   Windows 10    1.90   \n",
       "1136           256GB SSD   Nvidia Quadro M3000M   Windows 7    3.00   \n",
       "44               1TB HDD   Nvidia GeForce 150MX  Windows 10    2.77   \n",
       "1132  32GB Flash Storage  Intel HD Graphics 500  Windows 10    1.50   \n",
       "728              1TB HDD     AMD Radeon R7 M445       Linux    2.32   \n",
       "\n",
       "            Price  Touchscreen  IPS            PPI  \n",
       "229    67612.3200            0    0  155538.461538  \n",
       "1136  210424.0320            0    1  140254.335260  \n",
       "44     53226.7200            1    0  140254.335260  \n",
       "1132   14811.8400            0    0   87706.428571  \n",
       "728    31409.6256            0    0   78710.897436  "
      ]
     },
     "execution_count": 44,
     "metadata": {},
     "output_type": "execute_result"
    }
   ],
   "source": [
    "df.sample(5)"
   ]
  },
  {
   "cell_type": "code",
   "execution_count": 45,
   "id": "e8a61741",
   "metadata": {},
   "outputs": [],
   "source": [
    "df['PPI'] = round(df.PPI, 2)"
   ]
  },
  {
   "cell_type": "code",
   "execution_count": 46,
   "id": "9c829498",
   "metadata": {},
   "outputs": [
    {
     "data": {
      "text/html": [
       "<div>\n",
       "<style scoped>\n",
       "    .dataframe tbody tr th:only-of-type {\n",
       "        vertical-align: middle;\n",
       "    }\n",
       "\n",
       "    .dataframe tbody tr th {\n",
       "        vertical-align: top;\n",
       "    }\n",
       "\n",
       "    .dataframe thead th {\n",
       "        text-align: right;\n",
       "    }\n",
       "</style>\n",
       "<table border=\"1\" class=\"dataframe\">\n",
       "  <thead>\n",
       "    <tr style=\"text-align: right;\">\n",
       "      <th></th>\n",
       "      <th>Company</th>\n",
       "      <th>TypeName</th>\n",
       "      <th>Cpu</th>\n",
       "      <th>Ram</th>\n",
       "      <th>Memory</th>\n",
       "      <th>Gpu</th>\n",
       "      <th>OpSys</th>\n",
       "      <th>Weight</th>\n",
       "      <th>Price</th>\n",
       "      <th>Touchscreen</th>\n",
       "      <th>IPS</th>\n",
       "      <th>PPI</th>\n",
       "    </tr>\n",
       "  </thead>\n",
       "  <tbody>\n",
       "    <tr>\n",
       "      <th>0</th>\n",
       "      <td>Apple</td>\n",
       "      <td>Ultrabook</td>\n",
       "      <td>Intel Core i5 2.3GHz</td>\n",
       "      <td>8</td>\n",
       "      <td>128GB SSD</td>\n",
       "      <td>Intel Iris Plus Graphics 640</td>\n",
       "      <td>macOS</td>\n",
       "      <td>1.37</td>\n",
       "      <td>71378.6832</td>\n",
       "      <td>0</td>\n",
       "      <td>1</td>\n",
       "      <td>342616.54</td>\n",
       "    </tr>\n",
       "    <tr>\n",
       "      <th>1</th>\n",
       "      <td>Apple</td>\n",
       "      <td>Ultrabook</td>\n",
       "      <td>Intel Core i5 1.8GHz</td>\n",
       "      <td>8</td>\n",
       "      <td>128GB Flash Storage</td>\n",
       "      <td>Intel HD Graphics 6000</td>\n",
       "      <td>macOS</td>\n",
       "      <td>1.34</td>\n",
       "      <td>47895.5232</td>\n",
       "      <td>0</td>\n",
       "      <td>0</td>\n",
       "      <td>108406.02</td>\n",
       "    </tr>\n",
       "    <tr>\n",
       "      <th>2</th>\n",
       "      <td>HP</td>\n",
       "      <td>Notebook</td>\n",
       "      <td>Intel Core i5 7200U 2.5GHz</td>\n",
       "      <td>8</td>\n",
       "      <td>256GB SSD</td>\n",
       "      <td>Intel HD Graphics 620</td>\n",
       "      <td>No OS</td>\n",
       "      <td>1.86</td>\n",
       "      <td>30636.0000</td>\n",
       "      <td>0</td>\n",
       "      <td>0</td>\n",
       "      <td>155538.46</td>\n",
       "    </tr>\n",
       "    <tr>\n",
       "      <th>3</th>\n",
       "      <td>Apple</td>\n",
       "      <td>Ultrabook</td>\n",
       "      <td>Intel Core i7 2.7GHz</td>\n",
       "      <td>16</td>\n",
       "      <td>512GB SSD</td>\n",
       "      <td>AMD Radeon Pro 455</td>\n",
       "      <td>macOS</td>\n",
       "      <td>1.83</td>\n",
       "      <td>135195.3360</td>\n",
       "      <td>0</td>\n",
       "      <td>1</td>\n",
       "      <td>374493.51</td>\n",
       "    </tr>\n",
       "    <tr>\n",
       "      <th>4</th>\n",
       "      <td>Apple</td>\n",
       "      <td>Ultrabook</td>\n",
       "      <td>Intel Core i5 3.1GHz</td>\n",
       "      <td>8</td>\n",
       "      <td>256GB SSD</td>\n",
       "      <td>Intel Iris Plus Graphics 650</td>\n",
       "      <td>macOS</td>\n",
       "      <td>1.37</td>\n",
       "      <td>96095.8080</td>\n",
       "      <td>0</td>\n",
       "      <td>1</td>\n",
       "      <td>342616.54</td>\n",
       "    </tr>\n",
       "  </tbody>\n",
       "</table>\n",
       "</div>"
      ],
      "text/plain": [
       "  Company   TypeName                         Cpu  Ram               Memory  \\\n",
       "0   Apple  Ultrabook        Intel Core i5 2.3GHz    8            128GB SSD   \n",
       "1   Apple  Ultrabook        Intel Core i5 1.8GHz    8  128GB Flash Storage   \n",
       "2      HP   Notebook  Intel Core i5 7200U 2.5GHz    8            256GB SSD   \n",
       "3   Apple  Ultrabook        Intel Core i7 2.7GHz   16            512GB SSD   \n",
       "4   Apple  Ultrabook        Intel Core i5 3.1GHz    8            256GB SSD   \n",
       "\n",
       "                            Gpu  OpSys  Weight        Price  Touchscreen  IPS  \\\n",
       "0  Intel Iris Plus Graphics 640  macOS    1.37   71378.6832            0    1   \n",
       "1        Intel HD Graphics 6000  macOS    1.34   47895.5232            0    0   \n",
       "2         Intel HD Graphics 620  No OS    1.86   30636.0000            0    0   \n",
       "3            AMD Radeon Pro 455  macOS    1.83  135195.3360            0    1   \n",
       "4  Intel Iris Plus Graphics 650  macOS    1.37   96095.8080            0    1   \n",
       "\n",
       "         PPI  \n",
       "0  342616.54  \n",
       "1  108406.02  \n",
       "2  155538.46  \n",
       "3  374493.51  \n",
       "4  342616.54  "
      ]
     },
     "execution_count": 46,
     "metadata": {},
     "output_type": "execute_result"
    }
   ],
   "source": [
    "df.head()"
   ]
  },
  {
   "cell_type": "markdown",
   "id": "8a6a117d",
   "metadata": {},
   "source": [
    "- Fetching information from CPU column."
   ]
  },
  {
   "cell_type": "code",
   "execution_count": 47,
   "id": "92f5f17c",
   "metadata": {},
   "outputs": [
    {
     "data": {
      "text/plain": [
       "Intel Core i5 7200U 2.5GHz       190\n",
       "Intel Core i7 7700HQ 2.8GHz      146\n",
       "Intel Core i7 7500U 2.7GHz       134\n",
       "Intel Core i7 8550U 1.8GHz        73\n",
       "Intel Core i5 8250U 1.6GHz        72\n",
       "                                ... \n",
       "Intel Core M M3-6Y30 0.9GHz        1\n",
       "AMD A9-Series 9420 2.9GHz          1\n",
       "Intel Core i3 6006U 2.2GHz         1\n",
       "AMD A6-Series 7310 2GHz            1\n",
       "Intel Xeon E3-1535M v6 3.1GHz      1\n",
       "Name: Cpu, Length: 118, dtype: int64"
      ]
     },
     "execution_count": 47,
     "metadata": {},
     "output_type": "execute_result"
    }
   ],
   "source": [
    "df['Cpu'].value_counts()"
   ]
  },
  {
   "cell_type": "code",
   "execution_count": 48,
   "id": "bf42868f",
   "metadata": {},
   "outputs": [],
   "source": [
    "df['Cpu_Name'] = df['Cpu'].apply(lambda x:' '.join(x.split()[0:3]))"
   ]
  },
  {
   "cell_type": "code",
   "execution_count": 49,
   "id": "7fe7259f",
   "metadata": {},
   "outputs": [
    {
     "data": {
      "text/html": [
       "<div>\n",
       "<style scoped>\n",
       "    .dataframe tbody tr th:only-of-type {\n",
       "        vertical-align: middle;\n",
       "    }\n",
       "\n",
       "    .dataframe tbody tr th {\n",
       "        vertical-align: top;\n",
       "    }\n",
       "\n",
       "    .dataframe thead th {\n",
       "        text-align: right;\n",
       "    }\n",
       "</style>\n",
       "<table border=\"1\" class=\"dataframe\">\n",
       "  <thead>\n",
       "    <tr style=\"text-align: right;\">\n",
       "      <th></th>\n",
       "      <th>Company</th>\n",
       "      <th>TypeName</th>\n",
       "      <th>Cpu</th>\n",
       "      <th>Ram</th>\n",
       "      <th>Memory</th>\n",
       "      <th>Gpu</th>\n",
       "      <th>OpSys</th>\n",
       "      <th>Weight</th>\n",
       "      <th>Price</th>\n",
       "      <th>Touchscreen</th>\n",
       "      <th>IPS</th>\n",
       "      <th>PPI</th>\n",
       "      <th>Cpu_Name</th>\n",
       "    </tr>\n",
       "  </thead>\n",
       "  <tbody>\n",
       "    <tr>\n",
       "      <th>0</th>\n",
       "      <td>Apple</td>\n",
       "      <td>Ultrabook</td>\n",
       "      <td>Intel Core i5 2.3GHz</td>\n",
       "      <td>8</td>\n",
       "      <td>128GB SSD</td>\n",
       "      <td>Intel Iris Plus Graphics 640</td>\n",
       "      <td>macOS</td>\n",
       "      <td>1.37</td>\n",
       "      <td>71378.6832</td>\n",
       "      <td>0</td>\n",
       "      <td>1</td>\n",
       "      <td>342616.54</td>\n",
       "      <td>Intel Core i5</td>\n",
       "    </tr>\n",
       "    <tr>\n",
       "      <th>1</th>\n",
       "      <td>Apple</td>\n",
       "      <td>Ultrabook</td>\n",
       "      <td>Intel Core i5 1.8GHz</td>\n",
       "      <td>8</td>\n",
       "      <td>128GB Flash Storage</td>\n",
       "      <td>Intel HD Graphics 6000</td>\n",
       "      <td>macOS</td>\n",
       "      <td>1.34</td>\n",
       "      <td>47895.5232</td>\n",
       "      <td>0</td>\n",
       "      <td>0</td>\n",
       "      <td>108406.02</td>\n",
       "      <td>Intel Core i5</td>\n",
       "    </tr>\n",
       "    <tr>\n",
       "      <th>2</th>\n",
       "      <td>HP</td>\n",
       "      <td>Notebook</td>\n",
       "      <td>Intel Core i5 7200U 2.5GHz</td>\n",
       "      <td>8</td>\n",
       "      <td>256GB SSD</td>\n",
       "      <td>Intel HD Graphics 620</td>\n",
       "      <td>No OS</td>\n",
       "      <td>1.86</td>\n",
       "      <td>30636.0000</td>\n",
       "      <td>0</td>\n",
       "      <td>0</td>\n",
       "      <td>155538.46</td>\n",
       "      <td>Intel Core i5</td>\n",
       "    </tr>\n",
       "    <tr>\n",
       "      <th>3</th>\n",
       "      <td>Apple</td>\n",
       "      <td>Ultrabook</td>\n",
       "      <td>Intel Core i7 2.7GHz</td>\n",
       "      <td>16</td>\n",
       "      <td>512GB SSD</td>\n",
       "      <td>AMD Radeon Pro 455</td>\n",
       "      <td>macOS</td>\n",
       "      <td>1.83</td>\n",
       "      <td>135195.3360</td>\n",
       "      <td>0</td>\n",
       "      <td>1</td>\n",
       "      <td>374493.51</td>\n",
       "      <td>Intel Core i7</td>\n",
       "    </tr>\n",
       "    <tr>\n",
       "      <th>4</th>\n",
       "      <td>Apple</td>\n",
       "      <td>Ultrabook</td>\n",
       "      <td>Intel Core i5 3.1GHz</td>\n",
       "      <td>8</td>\n",
       "      <td>256GB SSD</td>\n",
       "      <td>Intel Iris Plus Graphics 650</td>\n",
       "      <td>macOS</td>\n",
       "      <td>1.37</td>\n",
       "      <td>96095.8080</td>\n",
       "      <td>0</td>\n",
       "      <td>1</td>\n",
       "      <td>342616.54</td>\n",
       "      <td>Intel Core i5</td>\n",
       "    </tr>\n",
       "  </tbody>\n",
       "</table>\n",
       "</div>"
      ],
      "text/plain": [
       "  Company   TypeName                         Cpu  Ram               Memory  \\\n",
       "0   Apple  Ultrabook        Intel Core i5 2.3GHz    8            128GB SSD   \n",
       "1   Apple  Ultrabook        Intel Core i5 1.8GHz    8  128GB Flash Storage   \n",
       "2      HP   Notebook  Intel Core i5 7200U 2.5GHz    8            256GB SSD   \n",
       "3   Apple  Ultrabook        Intel Core i7 2.7GHz   16            512GB SSD   \n",
       "4   Apple  Ultrabook        Intel Core i5 3.1GHz    8            256GB SSD   \n",
       "\n",
       "                            Gpu  OpSys  Weight        Price  Touchscreen  IPS  \\\n",
       "0  Intel Iris Plus Graphics 640  macOS    1.37   71378.6832            0    1   \n",
       "1        Intel HD Graphics 6000  macOS    1.34   47895.5232            0    0   \n",
       "2         Intel HD Graphics 620  No OS    1.86   30636.0000            0    0   \n",
       "3            AMD Radeon Pro 455  macOS    1.83  135195.3360            0    1   \n",
       "4  Intel Iris Plus Graphics 650  macOS    1.37   96095.8080            0    1   \n",
       "\n",
       "         PPI       Cpu_Name  \n",
       "0  342616.54  Intel Core i5  \n",
       "1  108406.02  Intel Core i5  \n",
       "2  155538.46  Intel Core i5  \n",
       "3  374493.51  Intel Core i7  \n",
       "4  342616.54  Intel Core i5  "
      ]
     },
     "execution_count": 49,
     "metadata": {},
     "output_type": "execute_result"
    }
   ],
   "source": [
    "df.head()"
   ]
  },
  {
   "cell_type": "code",
   "execution_count": 50,
   "id": "29f9a7cb",
   "metadata": {},
   "outputs": [],
   "source": [
    "def fetch_processor(text):\n",
    "    if text == 'Intel Core i7' or text == 'Intel Core i5' or text == 'Intel Core i3':\n",
    "        return text\n",
    "    else:\n",
    "        if text.split()[0] == 'Intel':\n",
    "            return 'Other Intel Processor'\n",
    "        else:\n",
    "            return 'AMD Processor'"
   ]
  },
  {
   "cell_type": "code",
   "execution_count": 51,
   "id": "050984fd",
   "metadata": {},
   "outputs": [],
   "source": [
    "df['Cpu_Brand'] = df['Cpu_Name'].apply(fetch_processor)"
   ]
  },
  {
   "cell_type": "code",
   "execution_count": 52,
   "id": "2dc0a90b",
   "metadata": {},
   "outputs": [
    {
     "data": {
      "text/html": [
       "<div>\n",
       "<style scoped>\n",
       "    .dataframe tbody tr th:only-of-type {\n",
       "        vertical-align: middle;\n",
       "    }\n",
       "\n",
       "    .dataframe tbody tr th {\n",
       "        vertical-align: top;\n",
       "    }\n",
       "\n",
       "    .dataframe thead th {\n",
       "        text-align: right;\n",
       "    }\n",
       "</style>\n",
       "<table border=\"1\" class=\"dataframe\">\n",
       "  <thead>\n",
       "    <tr style=\"text-align: right;\">\n",
       "      <th></th>\n",
       "      <th>Company</th>\n",
       "      <th>TypeName</th>\n",
       "      <th>Cpu</th>\n",
       "      <th>Ram</th>\n",
       "      <th>Memory</th>\n",
       "      <th>Gpu</th>\n",
       "      <th>OpSys</th>\n",
       "      <th>Weight</th>\n",
       "      <th>Price</th>\n",
       "      <th>Touchscreen</th>\n",
       "      <th>IPS</th>\n",
       "      <th>PPI</th>\n",
       "      <th>Cpu_Name</th>\n",
       "      <th>Cpu_Brand</th>\n",
       "    </tr>\n",
       "  </thead>\n",
       "  <tbody>\n",
       "    <tr>\n",
       "      <th>0</th>\n",
       "      <td>Apple</td>\n",
       "      <td>Ultrabook</td>\n",
       "      <td>Intel Core i5 2.3GHz</td>\n",
       "      <td>8</td>\n",
       "      <td>128GB SSD</td>\n",
       "      <td>Intel Iris Plus Graphics 640</td>\n",
       "      <td>macOS</td>\n",
       "      <td>1.37</td>\n",
       "      <td>71378.6832</td>\n",
       "      <td>0</td>\n",
       "      <td>1</td>\n",
       "      <td>342616.54</td>\n",
       "      <td>Intel Core i5</td>\n",
       "      <td>Intel Core i5</td>\n",
       "    </tr>\n",
       "    <tr>\n",
       "      <th>1</th>\n",
       "      <td>Apple</td>\n",
       "      <td>Ultrabook</td>\n",
       "      <td>Intel Core i5 1.8GHz</td>\n",
       "      <td>8</td>\n",
       "      <td>128GB Flash Storage</td>\n",
       "      <td>Intel HD Graphics 6000</td>\n",
       "      <td>macOS</td>\n",
       "      <td>1.34</td>\n",
       "      <td>47895.5232</td>\n",
       "      <td>0</td>\n",
       "      <td>0</td>\n",
       "      <td>108406.02</td>\n",
       "      <td>Intel Core i5</td>\n",
       "      <td>Intel Core i5</td>\n",
       "    </tr>\n",
       "    <tr>\n",
       "      <th>2</th>\n",
       "      <td>HP</td>\n",
       "      <td>Notebook</td>\n",
       "      <td>Intel Core i5 7200U 2.5GHz</td>\n",
       "      <td>8</td>\n",
       "      <td>256GB SSD</td>\n",
       "      <td>Intel HD Graphics 620</td>\n",
       "      <td>No OS</td>\n",
       "      <td>1.86</td>\n",
       "      <td>30636.0000</td>\n",
       "      <td>0</td>\n",
       "      <td>0</td>\n",
       "      <td>155538.46</td>\n",
       "      <td>Intel Core i5</td>\n",
       "      <td>Intel Core i5</td>\n",
       "    </tr>\n",
       "    <tr>\n",
       "      <th>3</th>\n",
       "      <td>Apple</td>\n",
       "      <td>Ultrabook</td>\n",
       "      <td>Intel Core i7 2.7GHz</td>\n",
       "      <td>16</td>\n",
       "      <td>512GB SSD</td>\n",
       "      <td>AMD Radeon Pro 455</td>\n",
       "      <td>macOS</td>\n",
       "      <td>1.83</td>\n",
       "      <td>135195.3360</td>\n",
       "      <td>0</td>\n",
       "      <td>1</td>\n",
       "      <td>374493.51</td>\n",
       "      <td>Intel Core i7</td>\n",
       "      <td>Intel Core i7</td>\n",
       "    </tr>\n",
       "    <tr>\n",
       "      <th>4</th>\n",
       "      <td>Apple</td>\n",
       "      <td>Ultrabook</td>\n",
       "      <td>Intel Core i5 3.1GHz</td>\n",
       "      <td>8</td>\n",
       "      <td>256GB SSD</td>\n",
       "      <td>Intel Iris Plus Graphics 650</td>\n",
       "      <td>macOS</td>\n",
       "      <td>1.37</td>\n",
       "      <td>96095.8080</td>\n",
       "      <td>0</td>\n",
       "      <td>1</td>\n",
       "      <td>342616.54</td>\n",
       "      <td>Intel Core i5</td>\n",
       "      <td>Intel Core i5</td>\n",
       "    </tr>\n",
       "  </tbody>\n",
       "</table>\n",
       "</div>"
      ],
      "text/plain": [
       "  Company   TypeName                         Cpu  Ram               Memory  \\\n",
       "0   Apple  Ultrabook        Intel Core i5 2.3GHz    8            128GB SSD   \n",
       "1   Apple  Ultrabook        Intel Core i5 1.8GHz    8  128GB Flash Storage   \n",
       "2      HP   Notebook  Intel Core i5 7200U 2.5GHz    8            256GB SSD   \n",
       "3   Apple  Ultrabook        Intel Core i7 2.7GHz   16            512GB SSD   \n",
       "4   Apple  Ultrabook        Intel Core i5 3.1GHz    8            256GB SSD   \n",
       "\n",
       "                            Gpu  OpSys  Weight        Price  Touchscreen  IPS  \\\n",
       "0  Intel Iris Plus Graphics 640  macOS    1.37   71378.6832            0    1   \n",
       "1        Intel HD Graphics 6000  macOS    1.34   47895.5232            0    0   \n",
       "2         Intel HD Graphics 620  No OS    1.86   30636.0000            0    0   \n",
       "3            AMD Radeon Pro 455  macOS    1.83  135195.3360            0    1   \n",
       "4  Intel Iris Plus Graphics 650  macOS    1.37   96095.8080            0    1   \n",
       "\n",
       "         PPI       Cpu_Name      Cpu_Brand  \n",
       "0  342616.54  Intel Core i5  Intel Core i5  \n",
       "1  108406.02  Intel Core i5  Intel Core i5  \n",
       "2  155538.46  Intel Core i5  Intel Core i5  \n",
       "3  374493.51  Intel Core i7  Intel Core i7  \n",
       "4  342616.54  Intel Core i5  Intel Core i5  "
      ]
     },
     "execution_count": 52,
     "metadata": {},
     "output_type": "execute_result"
    }
   ],
   "source": [
    "df.head()"
   ]
  },
  {
   "cell_type": "code",
   "execution_count": 53,
   "id": "e95354f5",
   "metadata": {},
   "outputs": [
    {
     "data": {
      "image/png": "[encoded data removed]",
      "text/plain": [
       "<Figure size 640x480 with 1 Axes>"
      ]
     },
     "metadata": {},
     "output_type": "display_data"
    }
   ],
   "source": [
    "df['Cpu_Brand'].value_counts().plot(kind='bar')\n",
    "plt.show()"
   ]
  },
  {
   "cell_type": "code",
   "execution_count": 54,
   "id": "e04aad2b",
   "metadata": {},
   "outputs": [
    {
     "data": {
      "image/png": "[encoded data removed]",
      "text/plain": [
       "<Figure size 640x480 with 1 Axes>"
      ]
     },
     "metadata": {},
     "output_type": "display_data"
    }
   ],
   "source": [
    "sns.barplot(x=df['Cpu_Brand'], y=df['Price'])\n",
    "plt.xticks(rotation=90)\n",
    "plt.show()"
   ]
  },
  {
   "cell_type": "code",
   "execution_count": 55,
   "id": "1575101b",
   "metadata": {},
   "outputs": [],
   "source": [
    "df.drop(columns=['Cpu', 'Cpu_Name'], inplace=True)"
   ]
  },
  {
   "cell_type": "code",
   "execution_count": 56,
   "id": "9d088eef",
   "metadata": {},
   "outputs": [
    {
     "data": {
      "text/html": [
       "<div>\n",
       "<style scoped>\n",
       "    .dataframe tbody tr th:only-of-type {\n",
       "        vertical-align: middle;\n",
       "    }\n",
       "\n",
       "    .dataframe tbody tr th {\n",
       "        vertical-align: top;\n",
       "    }\n",
       "\n",
       "    .dataframe thead th {\n",
       "        text-align: right;\n",
       "    }\n",
       "</style>\n",
       "<table border=\"1\" class=\"dataframe\">\n",
       "  <thead>\n",
       "    <tr style=\"text-align: right;\">\n",
       "      <th></th>\n",
       "      <th>Company</th>\n",
       "      <th>TypeName</th>\n",
       "      <th>Ram</th>\n",
       "      <th>Memory</th>\n",
       "      <th>Gpu</th>\n",
       "      <th>OpSys</th>\n",
       "      <th>Weight</th>\n",
       "      <th>Price</th>\n",
       "      <th>Touchscreen</th>\n",
       "      <th>IPS</th>\n",
       "      <th>PPI</th>\n",
       "      <th>Cpu_Brand</th>\n",
       "    </tr>\n",
       "  </thead>\n",
       "  <tbody>\n",
       "    <tr>\n",
       "      <th>0</th>\n",
       "      <td>Apple</td>\n",
       "      <td>Ultrabook</td>\n",
       "      <td>8</td>\n",
       "      <td>128GB SSD</td>\n",
       "      <td>Intel Iris Plus Graphics 640</td>\n",
       "      <td>macOS</td>\n",
       "      <td>1.37</td>\n",
       "      <td>71378.6832</td>\n",
       "      <td>0</td>\n",
       "      <td>1</td>\n",
       "      <td>342616.54</td>\n",
       "      <td>Intel Core i5</td>\n",
       "    </tr>\n",
       "    <tr>\n",
       "      <th>1</th>\n",
       "      <td>Apple</td>\n",
       "      <td>Ultrabook</td>\n",
       "      <td>8</td>\n",
       "      <td>128GB Flash Storage</td>\n",
       "      <td>Intel HD Graphics 6000</td>\n",
       "      <td>macOS</td>\n",
       "      <td>1.34</td>\n",
       "      <td>47895.5232</td>\n",
       "      <td>0</td>\n",
       "      <td>0</td>\n",
       "      <td>108406.02</td>\n",
       "      <td>Intel Core i5</td>\n",
       "    </tr>\n",
       "    <tr>\n",
       "      <th>2</th>\n",
       "      <td>HP</td>\n",
       "      <td>Notebook</td>\n",
       "      <td>8</td>\n",
       "      <td>256GB SSD</td>\n",
       "      <td>Intel HD Graphics 620</td>\n",
       "      <td>No OS</td>\n",
       "      <td>1.86</td>\n",
       "      <td>30636.0000</td>\n",
       "      <td>0</td>\n",
       "      <td>0</td>\n",
       "      <td>155538.46</td>\n",
       "      <td>Intel Core i5</td>\n",
       "    </tr>\n",
       "    <tr>\n",
       "      <th>3</th>\n",
       "      <td>Apple</td>\n",
       "      <td>Ultrabook</td>\n",
       "      <td>16</td>\n",
       "      <td>512GB SSD</td>\n",
       "      <td>AMD Radeon Pro 455</td>\n",
       "      <td>macOS</td>\n",
       "      <td>1.83</td>\n",
       "      <td>135195.3360</td>\n",
       "      <td>0</td>\n",
       "      <td>1</td>\n",
       "      <td>374493.51</td>\n",
       "      <td>Intel Core i7</td>\n",
       "    </tr>\n",
       "    <tr>\n",
       "      <th>4</th>\n",
       "      <td>Apple</td>\n",
       "      <td>Ultrabook</td>\n",
       "      <td>8</td>\n",
       "      <td>256GB SSD</td>\n",
       "      <td>Intel Iris Plus Graphics 650</td>\n",
       "      <td>macOS</td>\n",
       "      <td>1.37</td>\n",
       "      <td>96095.8080</td>\n",
       "      <td>0</td>\n",
       "      <td>1</td>\n",
       "      <td>342616.54</td>\n",
       "      <td>Intel Core i5</td>\n",
       "    </tr>\n",
       "  </tbody>\n",
       "</table>\n",
       "</div>"
      ],
      "text/plain": [
       "  Company   TypeName  Ram               Memory                           Gpu  \\\n",
       "0   Apple  Ultrabook    8            128GB SSD  Intel Iris Plus Graphics 640   \n",
       "1   Apple  Ultrabook    8  128GB Flash Storage        Intel HD Graphics 6000   \n",
       "2      HP   Notebook    8            256GB SSD         Intel HD Graphics 620   \n",
       "3   Apple  Ultrabook   16            512GB SSD            AMD Radeon Pro 455   \n",
       "4   Apple  Ultrabook    8            256GB SSD  Intel Iris Plus Graphics 650   \n",
       "\n",
       "   OpSys  Weight        Price  Touchscreen  IPS        PPI      Cpu_Brand  \n",
       "0  macOS    1.37   71378.6832            0    1  342616.54  Intel Core i5  \n",
       "1  macOS    1.34   47895.5232            0    0  108406.02  Intel Core i5  \n",
       "2  No OS    1.86   30636.0000            0    0  155538.46  Intel Core i5  \n",
       "3  macOS    1.83  135195.3360            0    1  374493.51  Intel Core i7  \n",
       "4  macOS    1.37   96095.8080            0    1  342616.54  Intel Core i5  "
      ]
     },
     "execution_count": 56,
     "metadata": {},
     "output_type": "execute_result"
    }
   ],
   "source": [
    "df.head()"
   ]
  },
  {
   "cell_type": "markdown",
   "id": "55c129aa",
   "metadata": {},
   "source": [
    "- Fetching information from Ram column."
   ]
  },
  {
   "cell_type": "code",
   "execution_count": 57,
   "id": "5d76a5fd",
   "metadata": {},
   "outputs": [
    {
     "data": {
      "image/png": "[encoded data removed]",
      "text/plain": [
       "<Figure size 640x480 with 1 Axes>"
      ]
     },
     "metadata": {},
     "output_type": "display_data"
    }
   ],
   "source": [
    "df['Ram'].value_counts().plot(kind='bar')\n",
    "plt.show()"
   ]
  },
  {
   "cell_type": "code",
   "execution_count": 58,
   "id": "47b44569",
   "metadata": {},
   "outputs": [
    {
     "data": {
      "image/png": "[encoded data removed]",
      "text/plain": [
       "<Figure size 640x480 with 1 Axes>"
      ]
     },
     "metadata": {},
     "output_type": "display_data"
    }
   ],
   "source": [
    "sns.barplot(x=df['Ram'], y=df['Price'])\n",
    "plt.xticks(rotation=90)\n",
    "plt.show()"
   ]
  },
  {
   "cell_type": "markdown",
   "id": "6f153722",
   "metadata": {},
   "source": [
    "- Fetching information from Memory column."
   ]
  },
  {
   "cell_type": "code",
   "execution_count": 59,
   "id": "abae50cf",
   "metadata": {},
   "outputs": [
    {
     "data": {
      "text/plain": [
       "256GB SSD                        412\n",
       "1TB HDD                          223\n",
       "500GB HDD                        132\n",
       "512GB SSD                        118\n",
       "128GB SSD +  1TB HDD              94\n",
       "128GB SSD                         76\n",
       "256GB SSD +  1TB HDD              73\n",
       "32GB Flash Storage                38\n",
       "2TB HDD                           16\n",
       "64GB Flash Storage                15\n",
       "512GB SSD +  1TB HDD              14\n",
       "1TB SSD                           14\n",
       "256GB SSD +  2TB HDD              10\n",
       "1.0TB Hybrid                       9\n",
       "256GB Flash Storage                8\n",
       "16GB Flash Storage                 7\n",
       "32GB SSD                           6\n",
       "180GB SSD                          5\n",
       "128GB Flash Storage                4\n",
       "512GB SSD +  2TB HDD               3\n",
       "16GB SSD                           3\n",
       "512GB Flash Storage                2\n",
       "1TB SSD +  1TB HDD                 2\n",
       "256GB SSD +  500GB HDD             2\n",
       "128GB SSD +  2TB HDD               2\n",
       "256GB SSD +  256GB SSD             2\n",
       "512GB SSD +  256GB SSD             1\n",
       "512GB SSD +  512GB SSD             1\n",
       "64GB Flash Storage +  1TB HDD      1\n",
       "1TB HDD +  1TB HDD                 1\n",
       "32GB HDD                           1\n",
       "64GB SSD                           1\n",
       "128GB HDD                          1\n",
       "240GB SSD                          1\n",
       "8GB SSD                            1\n",
       "508GB Hybrid                       1\n",
       "1.0TB HDD                          1\n",
       "512GB SSD +  1.0TB Hybrid          1\n",
       "256GB SSD +  1.0TB Hybrid          1\n",
       "Name: Memory, dtype: int64"
      ]
     },
     "execution_count": 59,
     "metadata": {},
     "output_type": "execute_result"
    }
   ],
   "source": [
    "df.Memory.value_counts()"
   ]
  },
  {
   "cell_type": "markdown",
   "id": "cbc2f2de",
   "metadata": {},
   "source": [
    "**Inference-**\n",
    "- There is a lot of variation in memory combinations of laptops, which may cause issues for data analysis.\n",
    "- Hence I will create four different columns using this Memory column."
   ]
  },
  {
   "cell_type": "code",
   "execution_count": 60,
   "id": "075e69ed",
   "metadata": {},
   "outputs": [
    {
     "name": "stderr",
     "output_type": "stream",
     "text": [
      "C:\\Users\\Rakshita\\AppData\\Local\\Temp\\ipykernel_6036\\1486380079.py:16: FutureWarning: The default value of regex will change from True to False in a future version.\n",
      "  df['first'] = df['first'].str.replace(r'\\D', '')\n",
      "C:\\Users\\Rakshita\\AppData\\Local\\Temp\\ipykernel_6036\\1486380079.py:25: FutureWarning: The default value of regex will change from True to False in a future version.\n",
      "  df['second'] = df['second'].str.replace(r'\\D', '')\n"
     ]
    }
   ],
   "source": [
    "df['Memory'] = df['Memory'].astype(str).replace('\\.0', '', regex=True)\n",
    "df['Memory'] = df['Memory'].astype(str).replace('GB', '')\n",
    "df['Memory'] = df['Memory'].astype(str).replace('TB', '000')\n",
    "new = df['Memory'].str.split('+', n=1, expand=True)\n",
    "\n",
    "df['first'] = new[0]\n",
    "df['first'] = df['first'].str.strip()\n",
    "\n",
    "df['second'] = new[1]\n",
    "\n",
    "df['Layer1HDD'] = df['first'].apply(lambda x:1 if 'HDD' in x else 0)\n",
    "df['Layer1SSD'] = df['first'].apply(lambda x:1 if 'SSD' in x else 0)\n",
    "df['Layer1Hybrid'] = df['first'].apply(lambda x:1 if 'Hybrid' in x else 0)\n",
    "df['Layer1Flash_Storage'] = df['first'].apply(lambda x:1 if 'Flash Storage' in x else 0)\n",
    "\n",
    "df['first'] = df['first'].str.replace(r'\\D', '')\n",
    "\n",
    "df['second'].fillna('0', inplace=True)\n",
    "\n",
    "df['Layer2HDD'] = df['second'].apply(lambda x:1 if 'HDD' in x else 0)\n",
    "df['Layer2SSD'] = df['second'].apply(lambda x:1 if 'SSD' in x else 0)\n",
    "df['Layer2Hybrid'] = df['second'].apply(lambda x:1 if 'Hybrid' in x else 0)\n",
    "df['Layer2Flash_Storage'] = df['second'].apply(lambda x:1 if 'Flash Storage' in x else 0)\n",
    "\n",
    "df['second'] = df['second'].str.replace(r'\\D', '')\n",
    "\n",
    "df['first'] = df['first'].astype(int)\n",
    "df['second'] = df['second'].astype(int)\n",
    "\n",
    "df['HDD'] = (df['first']*df['Layer1HDD'] + df['second']*df['Layer2HDD'])\n",
    "df['SSD'] = (df['first']*df['Layer1SSD'] + df['second']*df['Layer2SSD'])\n",
    "df['Hybrid'] = (df['first']*df['Layer1Hybrid'] + df['second']*df['Layer2Hybrid'])\n",
    "df['Flash_Storage'] = (df['first']*df['Layer1Flash_Storage'] + df['second']*df['Layer2Flash_Storage'])\n",
    "\n",
    "df.drop(columns=['first','second','Layer1HDD','Layer1SSD','Layer1Hybrid','Layer1Flash_Storage',\n",
    "                 'Layer2HDD','Layer2SSD','Layer2Hybrid','Layer2Flash_Storage'], inplace=True)"
   ]
  },
  {
   "cell_type": "code",
   "execution_count": 61,
   "id": "e2864423",
   "metadata": {},
   "outputs": [
    {
     "data": {
      "text/html": [
       "<div>\n",
       "<style scoped>\n",
       "    .dataframe tbody tr th:only-of-type {\n",
       "        vertical-align: middle;\n",
       "    }\n",
       "\n",
       "    .dataframe tbody tr th {\n",
       "        vertical-align: top;\n",
       "    }\n",
       "\n",
       "    .dataframe thead th {\n",
       "        text-align: right;\n",
       "    }\n",
       "</style>\n",
       "<table border=\"1\" class=\"dataframe\">\n",
       "  <thead>\n",
       "    <tr style=\"text-align: right;\">\n",
       "      <th></th>\n",
       "      <th>Company</th>\n",
       "      <th>TypeName</th>\n",
       "      <th>Ram</th>\n",
       "      <th>Memory</th>\n",
       "      <th>Gpu</th>\n",
       "      <th>OpSys</th>\n",
       "      <th>Weight</th>\n",
       "      <th>Price</th>\n",
       "      <th>Touchscreen</th>\n",
       "      <th>IPS</th>\n",
       "      <th>PPI</th>\n",
       "      <th>Cpu_Brand</th>\n",
       "      <th>HDD</th>\n",
       "      <th>SSD</th>\n",
       "      <th>Hybrid</th>\n",
       "      <th>Flash_Storage</th>\n",
       "    </tr>\n",
       "  </thead>\n",
       "  <tbody>\n",
       "    <tr>\n",
       "      <th>1016</th>\n",
       "      <td>HP</td>\n",
       "      <td>Notebook</td>\n",
       "      <td>4</td>\n",
       "      <td>256GB SSD</td>\n",
       "      <td>Intel HD Graphics 620</td>\n",
       "      <td>Windows 10</td>\n",
       "      <td>2.04</td>\n",
       "      <td>41025.0672</td>\n",
       "      <td>0</td>\n",
       "      <td>0</td>\n",
       "      <td>78710.90</td>\n",
       "      <td>Intel Core i3</td>\n",
       "      <td>0</td>\n",
       "      <td>256</td>\n",
       "      <td>0</td>\n",
       "      <td>0</td>\n",
       "    </tr>\n",
       "    <tr>\n",
       "      <th>577</th>\n",
       "      <td>Lenovo</td>\n",
       "      <td>Gaming</td>\n",
       "      <td>32</td>\n",
       "      <td>256GB SSD +  1TB HDD</td>\n",
       "      <td>Nvidia GeForce GTX 1070</td>\n",
       "      <td>Windows 10</td>\n",
       "      <td>4.60</td>\n",
       "      <td>141884.6400</td>\n",
       "      <td>0</td>\n",
       "      <td>1</td>\n",
       "      <td>140254.34</td>\n",
       "      <td>Intel Core i7</td>\n",
       "      <td>1</td>\n",
       "      <td>256</td>\n",
       "      <td>0</td>\n",
       "      <td>0</td>\n",
       "    </tr>\n",
       "    <tr>\n",
       "      <th>363</th>\n",
       "      <td>HP</td>\n",
       "      <td>Notebook</td>\n",
       "      <td>8</td>\n",
       "      <td>1TB HDD</td>\n",
       "      <td>Intel HD Graphics 620</td>\n",
       "      <td>Windows 10</td>\n",
       "      <td>1.86</td>\n",
       "      <td>34045.9200</td>\n",
       "      <td>0</td>\n",
       "      <td>0</td>\n",
       "      <td>155538.46</td>\n",
       "      <td>Intel Core i5</td>\n",
       "      <td>1</td>\n",
       "      <td>0</td>\n",
       "      <td>0</td>\n",
       "      <td>0</td>\n",
       "    </tr>\n",
       "    <tr>\n",
       "      <th>899</th>\n",
       "      <td>Dell</td>\n",
       "      <td>Notebook</td>\n",
       "      <td>8</td>\n",
       "      <td>500GB HDD</td>\n",
       "      <td>Intel HD Graphics 620</td>\n",
       "      <td>Windows 10</td>\n",
       "      <td>1.90</td>\n",
       "      <td>49816.8000</td>\n",
       "      <td>0</td>\n",
       "      <td>0</td>\n",
       "      <td>155538.46</td>\n",
       "      <td>Intel Core i5</td>\n",
       "      <td>500</td>\n",
       "      <td>0</td>\n",
       "      <td>0</td>\n",
       "      <td>0</td>\n",
       "    </tr>\n",
       "    <tr>\n",
       "      <th>1168</th>\n",
       "      <td>HP</td>\n",
       "      <td>Notebook</td>\n",
       "      <td>2</td>\n",
       "      <td>32GB Flash Storage</td>\n",
       "      <td>Intel HD Graphics 400</td>\n",
       "      <td>Windows 10</td>\n",
       "      <td>1.44</td>\n",
       "      <td>13266.7200</td>\n",
       "      <td>0</td>\n",
       "      <td>0</td>\n",
       "      <td>87706.43</td>\n",
       "      <td>Other Intel Processor</td>\n",
       "      <td>0</td>\n",
       "      <td>0</td>\n",
       "      <td>0</td>\n",
       "      <td>32</td>\n",
       "    </tr>\n",
       "  </tbody>\n",
       "</table>\n",
       "</div>"
      ],
      "text/plain": [
       "     Company  TypeName  Ram                Memory                      Gpu  \\\n",
       "1016      HP  Notebook    4             256GB SSD    Intel HD Graphics 620   \n",
       "577   Lenovo    Gaming   32  256GB SSD +  1TB HDD  Nvidia GeForce GTX 1070   \n",
       "363       HP  Notebook    8               1TB HDD    Intel HD Graphics 620   \n",
       "899     Dell  Notebook    8             500GB HDD    Intel HD Graphics 620   \n",
       "1168      HP  Notebook    2    32GB Flash Storage    Intel HD Graphics 400   \n",
       "\n",
       "           OpSys  Weight        Price  Touchscreen  IPS        PPI  \\\n",
       "1016  Windows 10    2.04   41025.0672            0    0   78710.90   \n",
       "577   Windows 10    4.60  141884.6400            0    1  140254.34   \n",
       "363   Windows 10    1.86   34045.9200            0    0  155538.46   \n",
       "899   Windows 10    1.90   49816.8000            0    0  155538.46   \n",
       "1168  Windows 10    1.44   13266.7200            0    0   87706.43   \n",
       "\n",
       "                  Cpu_Brand  HDD  SSD  Hybrid  Flash_Storage  \n",
       "1016          Intel Core i3    0  256       0              0  \n",
       "577           Intel Core i7    1  256       0              0  \n",
       "363           Intel Core i5    1    0       0              0  \n",
       "899           Intel Core i5  500    0       0              0  \n",
       "1168  Other Intel Processor    0    0       0             32  "
      ]
     },
     "execution_count": 61,
     "metadata": {},
     "output_type": "execute_result"
    }
   ],
   "source": [
    "df.sample(5)"
   ]
  },
  {
   "cell_type": "code",
   "execution_count": 62,
   "id": "c08f55ad",
   "metadata": {},
   "outputs": [],
   "source": [
    "df.drop(columns=['Memory'], inplace=True)"
   ]
  },
  {
   "cell_type": "code",
   "execution_count": 63,
   "id": "22d7baae",
   "metadata": {},
   "outputs": [
    {
     "data": {
      "text/html": [
       "<div>\n",
       "<style scoped>\n",
       "    .dataframe tbody tr th:only-of-type {\n",
       "        vertical-align: middle;\n",
       "    }\n",
       "\n",
       "    .dataframe tbody tr th {\n",
       "        vertical-align: top;\n",
       "    }\n",
       "\n",
       "    .dataframe thead th {\n",
       "        text-align: right;\n",
       "    }\n",
       "</style>\n",
       "<table border=\"1\" class=\"dataframe\">\n",
       "  <thead>\n",
       "    <tr style=\"text-align: right;\">\n",
       "      <th></th>\n",
       "      <th>Company</th>\n",
       "      <th>TypeName</th>\n",
       "      <th>Ram</th>\n",
       "      <th>Gpu</th>\n",
       "      <th>OpSys</th>\n",
       "      <th>Weight</th>\n",
       "      <th>Price</th>\n",
       "      <th>Touchscreen</th>\n",
       "      <th>IPS</th>\n",
       "      <th>PPI</th>\n",
       "      <th>Cpu_Brand</th>\n",
       "      <th>HDD</th>\n",
       "      <th>SSD</th>\n",
       "      <th>Hybrid</th>\n",
       "      <th>Flash_Storage</th>\n",
       "    </tr>\n",
       "  </thead>\n",
       "  <tbody>\n",
       "    <tr>\n",
       "      <th>0</th>\n",
       "      <td>Apple</td>\n",
       "      <td>Ultrabook</td>\n",
       "      <td>8</td>\n",
       "      <td>Intel Iris Plus Graphics 640</td>\n",
       "      <td>macOS</td>\n",
       "      <td>1.37</td>\n",
       "      <td>71378.6832</td>\n",
       "      <td>0</td>\n",
       "      <td>1</td>\n",
       "      <td>342616.54</td>\n",
       "      <td>Intel Core i5</td>\n",
       "      <td>0</td>\n",
       "      <td>128</td>\n",
       "      <td>0</td>\n",
       "      <td>0</td>\n",
       "    </tr>\n",
       "    <tr>\n",
       "      <th>1</th>\n",
       "      <td>Apple</td>\n",
       "      <td>Ultrabook</td>\n",
       "      <td>8</td>\n",
       "      <td>Intel HD Graphics 6000</td>\n",
       "      <td>macOS</td>\n",
       "      <td>1.34</td>\n",
       "      <td>47895.5232</td>\n",
       "      <td>0</td>\n",
       "      <td>0</td>\n",
       "      <td>108406.02</td>\n",
       "      <td>Intel Core i5</td>\n",
       "      <td>0</td>\n",
       "      <td>0</td>\n",
       "      <td>0</td>\n",
       "      <td>128</td>\n",
       "    </tr>\n",
       "    <tr>\n",
       "      <th>2</th>\n",
       "      <td>HP</td>\n",
       "      <td>Notebook</td>\n",
       "      <td>8</td>\n",
       "      <td>Intel HD Graphics 620</td>\n",
       "      <td>No OS</td>\n",
       "      <td>1.86</td>\n",
       "      <td>30636.0000</td>\n",
       "      <td>0</td>\n",
       "      <td>0</td>\n",
       "      <td>155538.46</td>\n",
       "      <td>Intel Core i5</td>\n",
       "      <td>0</td>\n",
       "      <td>256</td>\n",
       "      <td>0</td>\n",
       "      <td>0</td>\n",
       "    </tr>\n",
       "    <tr>\n",
       "      <th>3</th>\n",
       "      <td>Apple</td>\n",
       "      <td>Ultrabook</td>\n",
       "      <td>16</td>\n",
       "      <td>AMD Radeon Pro 455</td>\n",
       "      <td>macOS</td>\n",
       "      <td>1.83</td>\n",
       "      <td>135195.3360</td>\n",
       "      <td>0</td>\n",
       "      <td>1</td>\n",
       "      <td>374493.51</td>\n",
       "      <td>Intel Core i7</td>\n",
       "      <td>0</td>\n",
       "      <td>512</td>\n",
       "      <td>0</td>\n",
       "      <td>0</td>\n",
       "    </tr>\n",
       "    <tr>\n",
       "      <th>4</th>\n",
       "      <td>Apple</td>\n",
       "      <td>Ultrabook</td>\n",
       "      <td>8</td>\n",
       "      <td>Intel Iris Plus Graphics 650</td>\n",
       "      <td>macOS</td>\n",
       "      <td>1.37</td>\n",
       "      <td>96095.8080</td>\n",
       "      <td>0</td>\n",
       "      <td>1</td>\n",
       "      <td>342616.54</td>\n",
       "      <td>Intel Core i5</td>\n",
       "      <td>0</td>\n",
       "      <td>256</td>\n",
       "      <td>0</td>\n",
       "      <td>0</td>\n",
       "    </tr>\n",
       "  </tbody>\n",
       "</table>\n",
       "</div>"
      ],
      "text/plain": [
       "  Company   TypeName  Ram                           Gpu  OpSys  Weight  \\\n",
       "0   Apple  Ultrabook    8  Intel Iris Plus Graphics 640  macOS    1.37   \n",
       "1   Apple  Ultrabook    8        Intel HD Graphics 6000  macOS    1.34   \n",
       "2      HP   Notebook    8         Intel HD Graphics 620  No OS    1.86   \n",
       "3   Apple  Ultrabook   16            AMD Radeon Pro 455  macOS    1.83   \n",
       "4   Apple  Ultrabook    8  Intel Iris Plus Graphics 650  macOS    1.37   \n",
       "\n",
       "         Price  Touchscreen  IPS        PPI      Cpu_Brand  HDD  SSD  Hybrid  \\\n",
       "0   71378.6832            0    1  342616.54  Intel Core i5    0  128       0   \n",
       "1   47895.5232            0    0  108406.02  Intel Core i5    0    0       0   \n",
       "2   30636.0000            0    0  155538.46  Intel Core i5    0  256       0   \n",
       "3  135195.3360            0    1  374493.51  Intel Core i7    0  512       0   \n",
       "4   96095.8080            0    1  342616.54  Intel Core i5    0  256       0   \n",
       "\n",
       "   Flash_Storage  \n",
       "0              0  \n",
       "1            128  \n",
       "2              0  \n",
       "3              0  \n",
       "4              0  "
      ]
     },
     "execution_count": 63,
     "metadata": {},
     "output_type": "execute_result"
    }
   ],
   "source": [
    "df.head()"
   ]
  },
  {
   "cell_type": "code",
   "execution_count": 64,
   "id": "5e234a4b",
   "metadata": {},
   "outputs": [
    {
     "data": {
      "text/plain": [
       "Ram              0.743007\n",
       "Weight           0.210370\n",
       "Price            1.000000\n",
       "Touchscreen      0.191226\n",
       "IPS              0.252208\n",
       "PPI              0.480017\n",
       "HDD             -0.234901\n",
       "SSD              0.547358\n",
       "Hybrid          -0.004769\n",
       "Flash_Storage   -0.040511\n",
       "Name: Price, dtype: float64"
      ]
     },
     "execution_count": 64,
     "metadata": {},
     "output_type": "execute_result"
    }
   ],
   "source": [
    "df.corr()['Price']"
   ]
  },
  {
   "cell_type": "code",
   "execution_count": 65,
   "id": "4aecd7a5",
   "metadata": {},
   "outputs": [],
   "source": [
    "df.drop(columns=['Hybrid','Flash_Storage'], inplace=True)"
   ]
  },
  {
   "cell_type": "code",
   "execution_count": 66,
   "id": "3e69e342",
   "metadata": {},
   "outputs": [
    {
     "data": {
      "text/html": [
       "<div>\n",
       "<style scoped>\n",
       "    .dataframe tbody tr th:only-of-type {\n",
       "        vertical-align: middle;\n",
       "    }\n",
       "\n",
       "    .dataframe tbody tr th {\n",
       "        vertical-align: top;\n",
       "    }\n",
       "\n",
       "    .dataframe thead th {\n",
       "        text-align: right;\n",
       "    }\n",
       "</style>\n",
       "<table border=\"1\" class=\"dataframe\">\n",
       "  <thead>\n",
       "    <tr style=\"text-align: right;\">\n",
       "      <th></th>\n",
       "      <th>Company</th>\n",
       "      <th>TypeName</th>\n",
       "      <th>Ram</th>\n",
       "      <th>Gpu</th>\n",
       "      <th>OpSys</th>\n",
       "      <th>Weight</th>\n",
       "      <th>Price</th>\n",
       "      <th>Touchscreen</th>\n",
       "      <th>IPS</th>\n",
       "      <th>PPI</th>\n",
       "      <th>Cpu_Brand</th>\n",
       "      <th>HDD</th>\n",
       "      <th>SSD</th>\n",
       "    </tr>\n",
       "  </thead>\n",
       "  <tbody>\n",
       "    <tr>\n",
       "      <th>0</th>\n",
       "      <td>Apple</td>\n",
       "      <td>Ultrabook</td>\n",
       "      <td>8</td>\n",
       "      <td>Intel Iris Plus Graphics 640</td>\n",
       "      <td>macOS</td>\n",
       "      <td>1.37</td>\n",
       "      <td>71378.6832</td>\n",
       "      <td>0</td>\n",
       "      <td>1</td>\n",
       "      <td>342616.54</td>\n",
       "      <td>Intel Core i5</td>\n",
       "      <td>0</td>\n",
       "      <td>128</td>\n",
       "    </tr>\n",
       "    <tr>\n",
       "      <th>1</th>\n",
       "      <td>Apple</td>\n",
       "      <td>Ultrabook</td>\n",
       "      <td>8</td>\n",
       "      <td>Intel HD Graphics 6000</td>\n",
       "      <td>macOS</td>\n",
       "      <td>1.34</td>\n",
       "      <td>47895.5232</td>\n",
       "      <td>0</td>\n",
       "      <td>0</td>\n",
       "      <td>108406.02</td>\n",
       "      <td>Intel Core i5</td>\n",
       "      <td>0</td>\n",
       "      <td>0</td>\n",
       "    </tr>\n",
       "    <tr>\n",
       "      <th>2</th>\n",
       "      <td>HP</td>\n",
       "      <td>Notebook</td>\n",
       "      <td>8</td>\n",
       "      <td>Intel HD Graphics 620</td>\n",
       "      <td>No OS</td>\n",
       "      <td>1.86</td>\n",
       "      <td>30636.0000</td>\n",
       "      <td>0</td>\n",
       "      <td>0</td>\n",
       "      <td>155538.46</td>\n",
       "      <td>Intel Core i5</td>\n",
       "      <td>0</td>\n",
       "      <td>256</td>\n",
       "    </tr>\n",
       "    <tr>\n",
       "      <th>3</th>\n",
       "      <td>Apple</td>\n",
       "      <td>Ultrabook</td>\n",
       "      <td>16</td>\n",
       "      <td>AMD Radeon Pro 455</td>\n",
       "      <td>macOS</td>\n",
       "      <td>1.83</td>\n",
       "      <td>135195.3360</td>\n",
       "      <td>0</td>\n",
       "      <td>1</td>\n",
       "      <td>374493.51</td>\n",
       "      <td>Intel Core i7</td>\n",
       "      <td>0</td>\n",
       "      <td>512</td>\n",
       "    </tr>\n",
       "    <tr>\n",
       "      <th>4</th>\n",
       "      <td>Apple</td>\n",
       "      <td>Ultrabook</td>\n",
       "      <td>8</td>\n",
       "      <td>Intel Iris Plus Graphics 650</td>\n",
       "      <td>macOS</td>\n",
       "      <td>1.37</td>\n",
       "      <td>96095.8080</td>\n",
       "      <td>0</td>\n",
       "      <td>1</td>\n",
       "      <td>342616.54</td>\n",
       "      <td>Intel Core i5</td>\n",
       "      <td>0</td>\n",
       "      <td>256</td>\n",
       "    </tr>\n",
       "  </tbody>\n",
       "</table>\n",
       "</div>"
      ],
      "text/plain": [
       "  Company   TypeName  Ram                           Gpu  OpSys  Weight  \\\n",
       "0   Apple  Ultrabook    8  Intel Iris Plus Graphics 640  macOS    1.37   \n",
       "1   Apple  Ultrabook    8        Intel HD Graphics 6000  macOS    1.34   \n",
       "2      HP   Notebook    8         Intel HD Graphics 620  No OS    1.86   \n",
       "3   Apple  Ultrabook   16            AMD Radeon Pro 455  macOS    1.83   \n",
       "4   Apple  Ultrabook    8  Intel Iris Plus Graphics 650  macOS    1.37   \n",
       "\n",
       "         Price  Touchscreen  IPS        PPI      Cpu_Brand  HDD  SSD  \n",
       "0   71378.6832            0    1  342616.54  Intel Core i5    0  128  \n",
       "1   47895.5232            0    0  108406.02  Intel Core i5    0    0  \n",
       "2   30636.0000            0    0  155538.46  Intel Core i5    0  256  \n",
       "3  135195.3360            0    1  374493.51  Intel Core i7    0  512  \n",
       "4   96095.8080            0    1  342616.54  Intel Core i5    0  256  "
      ]
     },
     "execution_count": 66,
     "metadata": {},
     "output_type": "execute_result"
    }
   ],
   "source": [
    "df.head()"
   ]
  },
  {
   "cell_type": "markdown",
   "id": "7f872b09",
   "metadata": {},
   "source": [
    "- Fetching information from Gpu column."
   ]
  },
  {
   "cell_type": "code",
   "execution_count": 67,
   "id": "731e2979",
   "metadata": {},
   "outputs": [
    {
     "data": {
      "text/plain": [
       "Intel HD Graphics 620      281\n",
       "Intel HD Graphics 520      185\n",
       "Intel UHD Graphics 620      68\n",
       "Nvidia GeForce GTX 1050     66\n",
       "Nvidia GeForce GTX 1060     48\n",
       "                          ... \n",
       "AMD Radeon R5 520            1\n",
       "AMD Radeon R7                1\n",
       "Intel HD Graphics 540        1\n",
       "AMD Radeon 540               1\n",
       "ARM Mali T860 MP4            1\n",
       "Name: Gpu, Length: 110, dtype: int64"
      ]
     },
     "execution_count": 67,
     "metadata": {},
     "output_type": "execute_result"
    }
   ],
   "source": [
    "df.Gpu.value_counts()"
   ]
  },
  {
   "cell_type": "code",
   "execution_count": 68,
   "id": "41270bff",
   "metadata": {},
   "outputs": [],
   "source": [
    "df['Gpu_Brand'] = df.Gpu.apply(lambda x:x.split()[0])"
   ]
  },
  {
   "cell_type": "code",
   "execution_count": 69,
   "id": "9168db26",
   "metadata": {},
   "outputs": [
    {
     "data": {
      "text/html": [
       "<div>\n",
       "<style scoped>\n",
       "    .dataframe tbody tr th:only-of-type {\n",
       "        vertical-align: middle;\n",
       "    }\n",
       "\n",
       "    .dataframe tbody tr th {\n",
       "        vertical-align: top;\n",
       "    }\n",
       "\n",
       "    .dataframe thead th {\n",
       "        text-align: right;\n",
       "    }\n",
       "</style>\n",
       "<table border=\"1\" class=\"dataframe\">\n",
       "  <thead>\n",
       "    <tr style=\"text-align: right;\">\n",
       "      <th></th>\n",
       "      <th>Company</th>\n",
       "      <th>TypeName</th>\n",
       "      <th>Ram</th>\n",
       "      <th>Gpu</th>\n",
       "      <th>OpSys</th>\n",
       "      <th>Weight</th>\n",
       "      <th>Price</th>\n",
       "      <th>Touchscreen</th>\n",
       "      <th>IPS</th>\n",
       "      <th>PPI</th>\n",
       "      <th>Cpu_Brand</th>\n",
       "      <th>HDD</th>\n",
       "      <th>SSD</th>\n",
       "      <th>Gpu_Brand</th>\n",
       "    </tr>\n",
       "  </thead>\n",
       "  <tbody>\n",
       "    <tr>\n",
       "      <th>0</th>\n",
       "      <td>Apple</td>\n",
       "      <td>Ultrabook</td>\n",
       "      <td>8</td>\n",
       "      <td>Intel Iris Plus Graphics 640</td>\n",
       "      <td>macOS</td>\n",
       "      <td>1.37</td>\n",
       "      <td>71378.6832</td>\n",
       "      <td>0</td>\n",
       "      <td>1</td>\n",
       "      <td>342616.54</td>\n",
       "      <td>Intel Core i5</td>\n",
       "      <td>0</td>\n",
       "      <td>128</td>\n",
       "      <td>Intel</td>\n",
       "    </tr>\n",
       "    <tr>\n",
       "      <th>1</th>\n",
       "      <td>Apple</td>\n",
       "      <td>Ultrabook</td>\n",
       "      <td>8</td>\n",
       "      <td>Intel HD Graphics 6000</td>\n",
       "      <td>macOS</td>\n",
       "      <td>1.34</td>\n",
       "      <td>47895.5232</td>\n",
       "      <td>0</td>\n",
       "      <td>0</td>\n",
       "      <td>108406.02</td>\n",
       "      <td>Intel Core i5</td>\n",
       "      <td>0</td>\n",
       "      <td>0</td>\n",
       "      <td>Intel</td>\n",
       "    </tr>\n",
       "    <tr>\n",
       "      <th>2</th>\n",
       "      <td>HP</td>\n",
       "      <td>Notebook</td>\n",
       "      <td>8</td>\n",
       "      <td>Intel HD Graphics 620</td>\n",
       "      <td>No OS</td>\n",
       "      <td>1.86</td>\n",
       "      <td>30636.0000</td>\n",
       "      <td>0</td>\n",
       "      <td>0</td>\n",
       "      <td>155538.46</td>\n",
       "      <td>Intel Core i5</td>\n",
       "      <td>0</td>\n",
       "      <td>256</td>\n",
       "      <td>Intel</td>\n",
       "    </tr>\n",
       "    <tr>\n",
       "      <th>3</th>\n",
       "      <td>Apple</td>\n",
       "      <td>Ultrabook</td>\n",
       "      <td>16</td>\n",
       "      <td>AMD Radeon Pro 455</td>\n",
       "      <td>macOS</td>\n",
       "      <td>1.83</td>\n",
       "      <td>135195.3360</td>\n",
       "      <td>0</td>\n",
       "      <td>1</td>\n",
       "      <td>374493.51</td>\n",
       "      <td>Intel Core i7</td>\n",
       "      <td>0</td>\n",
       "      <td>512</td>\n",
       "      <td>AMD</td>\n",
       "    </tr>\n",
       "    <tr>\n",
       "      <th>4</th>\n",
       "      <td>Apple</td>\n",
       "      <td>Ultrabook</td>\n",
       "      <td>8</td>\n",
       "      <td>Intel Iris Plus Graphics 650</td>\n",
       "      <td>macOS</td>\n",
       "      <td>1.37</td>\n",
       "      <td>96095.8080</td>\n",
       "      <td>0</td>\n",
       "      <td>1</td>\n",
       "      <td>342616.54</td>\n",
       "      <td>Intel Core i5</td>\n",
       "      <td>0</td>\n",
       "      <td>256</td>\n",
       "      <td>Intel</td>\n",
       "    </tr>\n",
       "  </tbody>\n",
       "</table>\n",
       "</div>"
      ],
      "text/plain": [
       "  Company   TypeName  Ram                           Gpu  OpSys  Weight  \\\n",
       "0   Apple  Ultrabook    8  Intel Iris Plus Graphics 640  macOS    1.37   \n",
       "1   Apple  Ultrabook    8        Intel HD Graphics 6000  macOS    1.34   \n",
       "2      HP   Notebook    8         Intel HD Graphics 620  No OS    1.86   \n",
       "3   Apple  Ultrabook   16            AMD Radeon Pro 455  macOS    1.83   \n",
       "4   Apple  Ultrabook    8  Intel Iris Plus Graphics 650  macOS    1.37   \n",
       "\n",
       "         Price  Touchscreen  IPS        PPI      Cpu_Brand  HDD  SSD Gpu_Brand  \n",
       "0   71378.6832            0    1  342616.54  Intel Core i5    0  128     Intel  \n",
       "1   47895.5232            0    0  108406.02  Intel Core i5    0    0     Intel  \n",
       "2   30636.0000            0    0  155538.46  Intel Core i5    0  256     Intel  \n",
       "3  135195.3360            0    1  374493.51  Intel Core i7    0  512       AMD  \n",
       "4   96095.8080            0    1  342616.54  Intel Core i5    0  256     Intel  "
      ]
     },
     "execution_count": 69,
     "metadata": {},
     "output_type": "execute_result"
    }
   ],
   "source": [
    "df.head()"
   ]
  },
  {
   "cell_type": "code",
   "execution_count": 70,
   "id": "7305e7ba",
   "metadata": {},
   "outputs": [
    {
     "data": {
      "text/plain": [
       "Intel     722\n",
       "Nvidia    400\n",
       "AMD       180\n",
       "ARM         1\n",
       "Name: Gpu_Brand, dtype: int64"
      ]
     },
     "execution_count": 70,
     "metadata": {},
     "output_type": "execute_result"
    }
   ],
   "source": [
    "df.Gpu_Brand.value_counts()"
   ]
  },
  {
   "cell_type": "code",
   "execution_count": 71,
   "id": "791874cd",
   "metadata": {},
   "outputs": [],
   "source": [
    "df = df[df.Gpu_Brand != 'ARM']"
   ]
  },
  {
   "cell_type": "code",
   "execution_count": 72,
   "id": "3eb10676",
   "metadata": {},
   "outputs": [
    {
     "data": {
      "text/plain": [
       "Intel     722\n",
       "Nvidia    400\n",
       "AMD       180\n",
       "Name: Gpu_Brand, dtype: int64"
      ]
     },
     "execution_count": 72,
     "metadata": {},
     "output_type": "execute_result"
    }
   ],
   "source": [
    "df.Gpu_Brand.value_counts()"
   ]
  },
  {
   "cell_type": "code",
   "execution_count": 73,
   "id": "dbea1da2",
   "metadata": {},
   "outputs": [
    {
     "data": {
      "image/png": "[encoded data removed]",
      "text/plain": [
       "<Figure size 640x480 with 1 Axes>"
      ]
     },
     "metadata": {},
     "output_type": "display_data"
    }
   ],
   "source": [
    "sns.barplot(x=df['Gpu_Brand'], y=df['Price'], estimator=np.median)\n",
    "plt.xticks(rotation=90)\n",
    "plt.show()"
   ]
  },
  {
   "cell_type": "code",
   "execution_count": 74,
   "id": "6b9f037b",
   "metadata": {},
   "outputs": [],
   "source": [
    "df.drop(columns=['Gpu'], inplace=True)"
   ]
  },
  {
   "cell_type": "code",
   "execution_count": 75,
   "id": "c8697d0d",
   "metadata": {},
   "outputs": [
    {
     "data": {
      "text/html": [
       "<div>\n",
       "<style scoped>\n",
       "    .dataframe tbody tr th:only-of-type {\n",
       "        vertical-align: middle;\n",
       "    }\n",
       "\n",
       "    .dataframe tbody tr th {\n",
       "        vertical-align: top;\n",
       "    }\n",
       "\n",
       "    .dataframe thead th {\n",
       "        text-align: right;\n",
       "    }\n",
       "</style>\n",
       "<table border=\"1\" class=\"dataframe\">\n",
       "  <thead>\n",
       "    <tr style=\"text-align: right;\">\n",
       "      <th></th>\n",
       "      <th>Company</th>\n",
       "      <th>TypeName</th>\n",
       "      <th>Ram</th>\n",
       "      <th>OpSys</th>\n",
       "      <th>Weight</th>\n",
       "      <th>Price</th>\n",
       "      <th>Touchscreen</th>\n",
       "      <th>IPS</th>\n",
       "      <th>PPI</th>\n",
       "      <th>Cpu_Brand</th>\n",
       "      <th>HDD</th>\n",
       "      <th>SSD</th>\n",
       "      <th>Gpu_Brand</th>\n",
       "    </tr>\n",
       "  </thead>\n",
       "  <tbody>\n",
       "    <tr>\n",
       "      <th>0</th>\n",
       "      <td>Apple</td>\n",
       "      <td>Ultrabook</td>\n",
       "      <td>8</td>\n",
       "      <td>macOS</td>\n",
       "      <td>1.37</td>\n",
       "      <td>71378.6832</td>\n",
       "      <td>0</td>\n",
       "      <td>1</td>\n",
       "      <td>342616.54</td>\n",
       "      <td>Intel Core i5</td>\n",
       "      <td>0</td>\n",
       "      <td>128</td>\n",
       "      <td>Intel</td>\n",
       "    </tr>\n",
       "    <tr>\n",
       "      <th>1</th>\n",
       "      <td>Apple</td>\n",
       "      <td>Ultrabook</td>\n",
       "      <td>8</td>\n",
       "      <td>macOS</td>\n",
       "      <td>1.34</td>\n",
       "      <td>47895.5232</td>\n",
       "      <td>0</td>\n",
       "      <td>0</td>\n",
       "      <td>108406.02</td>\n",
       "      <td>Intel Core i5</td>\n",
       "      <td>0</td>\n",
       "      <td>0</td>\n",
       "      <td>Intel</td>\n",
       "    </tr>\n",
       "    <tr>\n",
       "      <th>2</th>\n",
       "      <td>HP</td>\n",
       "      <td>Notebook</td>\n",
       "      <td>8</td>\n",
       "      <td>No OS</td>\n",
       "      <td>1.86</td>\n",
       "      <td>30636.0000</td>\n",
       "      <td>0</td>\n",
       "      <td>0</td>\n",
       "      <td>155538.46</td>\n",
       "      <td>Intel Core i5</td>\n",
       "      <td>0</td>\n",
       "      <td>256</td>\n",
       "      <td>Intel</td>\n",
       "    </tr>\n",
       "    <tr>\n",
       "      <th>3</th>\n",
       "      <td>Apple</td>\n",
       "      <td>Ultrabook</td>\n",
       "      <td>16</td>\n",
       "      <td>macOS</td>\n",
       "      <td>1.83</td>\n",
       "      <td>135195.3360</td>\n",
       "      <td>0</td>\n",
       "      <td>1</td>\n",
       "      <td>374493.51</td>\n",
       "      <td>Intel Core i7</td>\n",
       "      <td>0</td>\n",
       "      <td>512</td>\n",
       "      <td>AMD</td>\n",
       "    </tr>\n",
       "    <tr>\n",
       "      <th>4</th>\n",
       "      <td>Apple</td>\n",
       "      <td>Ultrabook</td>\n",
       "      <td>8</td>\n",
       "      <td>macOS</td>\n",
       "      <td>1.37</td>\n",
       "      <td>96095.8080</td>\n",
       "      <td>0</td>\n",
       "      <td>1</td>\n",
       "      <td>342616.54</td>\n",
       "      <td>Intel Core i5</td>\n",
       "      <td>0</td>\n",
       "      <td>256</td>\n",
       "      <td>Intel</td>\n",
       "    </tr>\n",
       "  </tbody>\n",
       "</table>\n",
       "</div>"
      ],
      "text/plain": [
       "  Company   TypeName  Ram  OpSys  Weight        Price  Touchscreen  IPS  \\\n",
       "0   Apple  Ultrabook    8  macOS    1.37   71378.6832            0    1   \n",
       "1   Apple  Ultrabook    8  macOS    1.34   47895.5232            0    0   \n",
       "2      HP   Notebook    8  No OS    1.86   30636.0000            0    0   \n",
       "3   Apple  Ultrabook   16  macOS    1.83  135195.3360            0    1   \n",
       "4   Apple  Ultrabook    8  macOS    1.37   96095.8080            0    1   \n",
       "\n",
       "         PPI      Cpu_Brand  HDD  SSD Gpu_Brand  \n",
       "0  342616.54  Intel Core i5    0  128     Intel  \n",
       "1  108406.02  Intel Core i5    0    0     Intel  \n",
       "2  155538.46  Intel Core i5    0  256     Intel  \n",
       "3  374493.51  Intel Core i7    0  512       AMD  \n",
       "4  342616.54  Intel Core i5    0  256     Intel  "
      ]
     },
     "execution_count": 75,
     "metadata": {},
     "output_type": "execute_result"
    }
   ],
   "source": [
    "df.head()"
   ]
  },
  {
   "cell_type": "markdown",
   "id": "f45c0cad",
   "metadata": {},
   "source": [
    "- Fetching information from OpSys column."
   ]
  },
  {
   "cell_type": "code",
   "execution_count": 76,
   "id": "a57ba204",
   "metadata": {
    "scrolled": true
   },
   "outputs": [
    {
     "data": {
      "text/plain": [
       "Windows 10      1072\n",
       "No OS             66\n",
       "Linux             62\n",
       "Windows 7         45\n",
       "Chrome OS         26\n",
       "macOS             13\n",
       "Mac OS X           8\n",
       "Windows 10 S       8\n",
       "Android            2\n",
       "Name: OpSys, dtype: int64"
      ]
     },
     "execution_count": 76,
     "metadata": {},
     "output_type": "execute_result"
    }
   ],
   "source": [
    "df['OpSys'].value_counts()"
   ]
  },
  {
   "cell_type": "code",
   "execution_count": 77,
   "id": "6143cd20",
   "metadata": {},
   "outputs": [
    {
     "data": {
      "image/png": "[encoded data removed]",
      "text/plain": [
       "<Figure size 640x480 with 1 Axes>"
      ]
     },
     "metadata": {},
     "output_type": "display_data"
    }
   ],
   "source": [
    "sns.barplot(x=df.OpSys, y=df.Price)\n",
    "plt.xticks(rotation=90)\n",
    "plt.show()"
   ]
  },
  {
   "cell_type": "code",
   "execution_count": 78,
   "id": "2956a9b8",
   "metadata": {},
   "outputs": [],
   "source": [
    "def cat_os(inp):\n",
    "    if inp == 'Windows 10' or inp == 'Windows 7' or inp == 'Windows 10 S':\n",
    "        return 'Windows'\n",
    "    elif inp == 'macOS' or inp == 'Mac OS X':\n",
    "        return 'Mac'\n",
    "    else:\n",
    "        return 'Others/No OS/Linux'"
   ]
  },
  {
   "cell_type": "code",
   "execution_count": 79,
   "id": "619e5b6c",
   "metadata": {},
   "outputs": [],
   "source": [
    "df['OS'] = df['OpSys'].apply(cat_os)"
   ]
  },
  {
   "cell_type": "code",
   "execution_count": 80,
   "id": "1670f4d1",
   "metadata": {},
   "outputs": [
    {
     "data": {
      "text/html": [
       "<div>\n",
       "<style scoped>\n",
       "    .dataframe tbody tr th:only-of-type {\n",
       "        vertical-align: middle;\n",
       "    }\n",
       "\n",
       "    .dataframe tbody tr th {\n",
       "        vertical-align: top;\n",
       "    }\n",
       "\n",
       "    .dataframe thead th {\n",
       "        text-align: right;\n",
       "    }\n",
       "</style>\n",
       "<table border=\"1\" class=\"dataframe\">\n",
       "  <thead>\n",
       "    <tr style=\"text-align: right;\">\n",
       "      <th></th>\n",
       "      <th>Company</th>\n",
       "      <th>TypeName</th>\n",
       "      <th>Ram</th>\n",
       "      <th>OpSys</th>\n",
       "      <th>Weight</th>\n",
       "      <th>Price</th>\n",
       "      <th>Touchscreen</th>\n",
       "      <th>IPS</th>\n",
       "      <th>PPI</th>\n",
       "      <th>Cpu_Brand</th>\n",
       "      <th>HDD</th>\n",
       "      <th>SSD</th>\n",
       "      <th>Gpu_Brand</th>\n",
       "      <th>OS</th>\n",
       "    </tr>\n",
       "  </thead>\n",
       "  <tbody>\n",
       "    <tr>\n",
       "      <th>0</th>\n",
       "      <td>Apple</td>\n",
       "      <td>Ultrabook</td>\n",
       "      <td>8</td>\n",
       "      <td>macOS</td>\n",
       "      <td>1.37</td>\n",
       "      <td>71378.6832</td>\n",
       "      <td>0</td>\n",
       "      <td>1</td>\n",
       "      <td>342616.54</td>\n",
       "      <td>Intel Core i5</td>\n",
       "      <td>0</td>\n",
       "      <td>128</td>\n",
       "      <td>Intel</td>\n",
       "      <td>Mac</td>\n",
       "    </tr>\n",
       "    <tr>\n",
       "      <th>1</th>\n",
       "      <td>Apple</td>\n",
       "      <td>Ultrabook</td>\n",
       "      <td>8</td>\n",
       "      <td>macOS</td>\n",
       "      <td>1.34</td>\n",
       "      <td>47895.5232</td>\n",
       "      <td>0</td>\n",
       "      <td>0</td>\n",
       "      <td>108406.02</td>\n",
       "      <td>Intel Core i5</td>\n",
       "      <td>0</td>\n",
       "      <td>0</td>\n",
       "      <td>Intel</td>\n",
       "      <td>Mac</td>\n",
       "    </tr>\n",
       "    <tr>\n",
       "      <th>2</th>\n",
       "      <td>HP</td>\n",
       "      <td>Notebook</td>\n",
       "      <td>8</td>\n",
       "      <td>No OS</td>\n",
       "      <td>1.86</td>\n",
       "      <td>30636.0000</td>\n",
       "      <td>0</td>\n",
       "      <td>0</td>\n",
       "      <td>155538.46</td>\n",
       "      <td>Intel Core i5</td>\n",
       "      <td>0</td>\n",
       "      <td>256</td>\n",
       "      <td>Intel</td>\n",
       "      <td>Others/No OS/Linux</td>\n",
       "    </tr>\n",
       "    <tr>\n",
       "      <th>3</th>\n",
       "      <td>Apple</td>\n",
       "      <td>Ultrabook</td>\n",
       "      <td>16</td>\n",
       "      <td>macOS</td>\n",
       "      <td>1.83</td>\n",
       "      <td>135195.3360</td>\n",
       "      <td>0</td>\n",
       "      <td>1</td>\n",
       "      <td>374493.51</td>\n",
       "      <td>Intel Core i7</td>\n",
       "      <td>0</td>\n",
       "      <td>512</td>\n",
       "      <td>AMD</td>\n",
       "      <td>Mac</td>\n",
       "    </tr>\n",
       "    <tr>\n",
       "      <th>4</th>\n",
       "      <td>Apple</td>\n",
       "      <td>Ultrabook</td>\n",
       "      <td>8</td>\n",
       "      <td>macOS</td>\n",
       "      <td>1.37</td>\n",
       "      <td>96095.8080</td>\n",
       "      <td>0</td>\n",
       "      <td>1</td>\n",
       "      <td>342616.54</td>\n",
       "      <td>Intel Core i5</td>\n",
       "      <td>0</td>\n",
       "      <td>256</td>\n",
       "      <td>Intel</td>\n",
       "      <td>Mac</td>\n",
       "    </tr>\n",
       "  </tbody>\n",
       "</table>\n",
       "</div>"
      ],
      "text/plain": [
       "  Company   TypeName  Ram  OpSys  Weight        Price  Touchscreen  IPS  \\\n",
       "0   Apple  Ultrabook    8  macOS    1.37   71378.6832            0    1   \n",
       "1   Apple  Ultrabook    8  macOS    1.34   47895.5232            0    0   \n",
       "2      HP   Notebook    8  No OS    1.86   30636.0000            0    0   \n",
       "3   Apple  Ultrabook   16  macOS    1.83  135195.3360            0    1   \n",
       "4   Apple  Ultrabook    8  macOS    1.37   96095.8080            0    1   \n",
       "\n",
       "         PPI      Cpu_Brand  HDD  SSD Gpu_Brand                  OS  \n",
       "0  342616.54  Intel Core i5    0  128     Intel                 Mac  \n",
       "1  108406.02  Intel Core i5    0    0     Intel                 Mac  \n",
       "2  155538.46  Intel Core i5    0  256     Intel  Others/No OS/Linux  \n",
       "3  374493.51  Intel Core i7    0  512       AMD                 Mac  \n",
       "4  342616.54  Intel Core i5    0  256     Intel                 Mac  "
      ]
     },
     "execution_count": 80,
     "metadata": {},
     "output_type": "execute_result"
    }
   ],
   "source": [
    "df.head()"
   ]
  },
  {
   "cell_type": "code",
   "execution_count": 81,
   "id": "57fc6e8d",
   "metadata": {},
   "outputs": [],
   "source": [
    "df.drop(columns=['OpSys'], inplace=True)"
   ]
  },
  {
   "cell_type": "code",
   "execution_count": 82,
   "id": "0728cb1d",
   "metadata": {},
   "outputs": [
    {
     "data": {
      "image/png": "[encoded data removed]",
      "text/plain": [
       "<Figure size 640x480 with 1 Axes>"
      ]
     },
     "metadata": {},
     "output_type": "display_data"
    }
   ],
   "source": [
    "sns.barplot(x=df.OS, y=df.Price)\n",
    "plt.xticks(rotation=90)\n",
    "plt.show()"
   ]
  },
  {
   "cell_type": "markdown",
   "id": "11fdb091",
   "metadata": {},
   "source": [
    "- Fetching information from Weight column."
   ]
  },
  {
   "cell_type": "code",
   "execution_count": 83,
   "id": "7e1f498e",
   "metadata": {},
   "outputs": [
    {
     "name": "stderr",
     "output_type": "stream",
     "text": [
      "C:\\Users\\Rakshita\\anaconda3\\lib\\site-packages\\seaborn\\distributions.py:2619: FutureWarning: `distplot` is a deprecated function and will be removed in a future version. Please adapt your code to use either `displot` (a figure-level function with similar flexibility) or `histplot` (an axes-level function for histograms).\n",
      "  warnings.warn(msg, FutureWarning)\n"
     ]
    },
    {
     "data": {
      "image/png": "[encoded data removed]",
      "text/plain": [
       "<Figure size 640x480 with 1 Axes>"
      ]
     },
     "metadata": {},
     "output_type": "display_data"
    }
   ],
   "source": [
    "sns.distplot(df['Weight'])\n",
    "plt.show()"
   ]
  },
  {
   "cell_type": "code",
   "execution_count": 84,
   "id": "b0bb3af5",
   "metadata": {},
   "outputs": [
    {
     "data": {
      "image/png": "[encoded data removed]",
      "text/plain": [
       "<Figure size 640x480 with 1 Axes>"
      ]
     },
     "metadata": {},
     "output_type": "display_data"
    }
   ],
   "source": [
    "sns.scatterplot(x=df.Weight, y=df.Price)\n",
    "plt.show()"
   ]
  },
  {
   "cell_type": "code",
   "execution_count": 85,
   "id": "84e55216",
   "metadata": {},
   "outputs": [
    {
     "data": {
      "text/plain": [
       "<AxesSubplot:>"
      ]
     },
     "execution_count": 85,
     "metadata": {},
     "output_type": "execute_result"
    },
    {
     "data": {
      "image/png": "[encoded data removed]",
      "text/plain": [
       "<Figure size 640x480 with 2 Axes>"
      ]
     },
     "metadata": {},
     "output_type": "display_data"
    }
   ],
   "source": [
    "sns.heatmap(df.corr(), annot=True)"
   ]
  },
  {
   "cell_type": "markdown",
   "id": "70fc883f",
   "metadata": {},
   "source": [
    "- Working on target variable - Price\n",
    "        \n",
    "    Since it is positively skewed, I will apply Log Transformation to make the data normally distributed."
   ]
  },
  {
   "cell_type": "code",
   "execution_count": 86,
   "id": "68e129e4",
   "metadata": {},
   "outputs": [
    {
     "name": "stderr",
     "output_type": "stream",
     "text": [
      "C:\\Users\\Rakshita\\anaconda3\\lib\\site-packages\\seaborn\\distributions.py:2619: FutureWarning: `distplot` is a deprecated function and will be removed in a future version. Please adapt your code to use either `displot` (a figure-level function with similar flexibility) or `histplot` (an axes-level function for histograms).\n",
      "  warnings.warn(msg, FutureWarning)\n"
     ]
    },
    {
     "data": {
      "image/png": "[encoded data removed]",
      "text/plain": [
       "<Figure size 640x480 with 1 Axes>"
      ]
     },
     "metadata": {},
     "output_type": "display_data"
    }
   ],
   "source": [
    "sns.distplot(df.Price)\n",
    "plt.show()"
   ]
  },
  {
   "cell_type": "markdown",
   "id": "c604dc45",
   "metadata": {},
   "source": [
    "### Model Validation -"
   ]
  },
  {
   "cell_type": "code",
   "execution_count": 87,
   "id": "8d58a7be",
   "metadata": {},
   "outputs": [],
   "source": [
    "X = df.drop(columns=['Price'])\n",
    "y = np.log(df['Price'])"
   ]
  },
  {
   "cell_type": "code",
   "execution_count": 88,
   "id": "3213baaf",
   "metadata": {},
   "outputs": [
    {
     "data": {
      "text/html": [
       "<div>\n",
       "<style scoped>\n",
       "    .dataframe tbody tr th:only-of-type {\n",
       "        vertical-align: middle;\n",
       "    }\n",
       "\n",
       "    .dataframe tbody tr th {\n",
       "        vertical-align: top;\n",
       "    }\n",
       "\n",
       "    .dataframe thead th {\n",
       "        text-align: right;\n",
       "    }\n",
       "</style>\n",
       "<table border=\"1\" class=\"dataframe\">\n",
       "  <thead>\n",
       "    <tr style=\"text-align: right;\">\n",
       "      <th></th>\n",
       "      <th>Company</th>\n",
       "      <th>TypeName</th>\n",
       "      <th>Ram</th>\n",
       "      <th>Weight</th>\n",
       "      <th>Touchscreen</th>\n",
       "      <th>IPS</th>\n",
       "      <th>PPI</th>\n",
       "      <th>Cpu_Brand</th>\n",
       "      <th>HDD</th>\n",
       "      <th>SSD</th>\n",
       "      <th>Gpu_Brand</th>\n",
       "      <th>OS</th>\n",
       "    </tr>\n",
       "  </thead>\n",
       "  <tbody>\n",
       "    <tr>\n",
       "      <th>0</th>\n",
       "      <td>Apple</td>\n",
       "      <td>Ultrabook</td>\n",
       "      <td>8</td>\n",
       "      <td>1.37</td>\n",
       "      <td>0</td>\n",
       "      <td>1</td>\n",
       "      <td>342616.54</td>\n",
       "      <td>Intel Core i5</td>\n",
       "      <td>0</td>\n",
       "      <td>128</td>\n",
       "      <td>Intel</td>\n",
       "      <td>Mac</td>\n",
       "    </tr>\n",
       "    <tr>\n",
       "      <th>1</th>\n",
       "      <td>Apple</td>\n",
       "      <td>Ultrabook</td>\n",
       "      <td>8</td>\n",
       "      <td>1.34</td>\n",
       "      <td>0</td>\n",
       "      <td>0</td>\n",
       "      <td>108406.02</td>\n",
       "      <td>Intel Core i5</td>\n",
       "      <td>0</td>\n",
       "      <td>0</td>\n",
       "      <td>Intel</td>\n",
       "      <td>Mac</td>\n",
       "    </tr>\n",
       "    <tr>\n",
       "      <th>2</th>\n",
       "      <td>HP</td>\n",
       "      <td>Notebook</td>\n",
       "      <td>8</td>\n",
       "      <td>1.86</td>\n",
       "      <td>0</td>\n",
       "      <td>0</td>\n",
       "      <td>155538.46</td>\n",
       "      <td>Intel Core i5</td>\n",
       "      <td>0</td>\n",
       "      <td>256</td>\n",
       "      <td>Intel</td>\n",
       "      <td>Others/No OS/Linux</td>\n",
       "    </tr>\n",
       "    <tr>\n",
       "      <th>3</th>\n",
       "      <td>Apple</td>\n",
       "      <td>Ultrabook</td>\n",
       "      <td>16</td>\n",
       "      <td>1.83</td>\n",
       "      <td>0</td>\n",
       "      <td>1</td>\n",
       "      <td>374493.51</td>\n",
       "      <td>Intel Core i7</td>\n",
       "      <td>0</td>\n",
       "      <td>512</td>\n",
       "      <td>AMD</td>\n",
       "      <td>Mac</td>\n",
       "    </tr>\n",
       "    <tr>\n",
       "      <th>4</th>\n",
       "      <td>Apple</td>\n",
       "      <td>Ultrabook</td>\n",
       "      <td>8</td>\n",
       "      <td>1.37</td>\n",
       "      <td>0</td>\n",
       "      <td>1</td>\n",
       "      <td>342616.54</td>\n",
       "      <td>Intel Core i5</td>\n",
       "      <td>0</td>\n",
       "      <td>256</td>\n",
       "      <td>Intel</td>\n",
       "      <td>Mac</td>\n",
       "    </tr>\n",
       "  </tbody>\n",
       "</table>\n",
       "</div>"
      ],
      "text/plain": [
       "  Company   TypeName  Ram  Weight  Touchscreen  IPS        PPI      Cpu_Brand  \\\n",
       "0   Apple  Ultrabook    8    1.37            0    1  342616.54  Intel Core i5   \n",
       "1   Apple  Ultrabook    8    1.34            0    0  108406.02  Intel Core i5   \n",
       "2      HP   Notebook    8    1.86            0    0  155538.46  Intel Core i5   \n",
       "3   Apple  Ultrabook   16    1.83            0    1  374493.51  Intel Core i7   \n",
       "4   Apple  Ultrabook    8    1.37            0    1  342616.54  Intel Core i5   \n",
       "\n",
       "   HDD  SSD Gpu_Brand                  OS  \n",
       "0    0  128     Intel                 Mac  \n",
       "1    0    0     Intel                 Mac  \n",
       "2    0  256     Intel  Others/No OS/Linux  \n",
       "3    0  512       AMD                 Mac  \n",
       "4    0  256     Intel                 Mac  "
      ]
     },
     "execution_count": 88,
     "metadata": {},
     "output_type": "execute_result"
    }
   ],
   "source": [
    "X.head()"
   ]
  },
  {
   "cell_type": "code",
   "execution_count": 89,
   "id": "ba763806",
   "metadata": {},
   "outputs": [
    {
     "data": {
      "text/plain": [
       "0    11.175755\n",
       "1    10.776777\n",
       "2    10.329931\n",
       "3    11.814476\n",
       "4    11.473101\n",
       "Name: Price, dtype: float64"
      ]
     },
     "execution_count": 89,
     "metadata": {},
     "output_type": "execute_result"
    }
   ],
   "source": [
    "y.head()"
   ]
  },
  {
   "cell_type": "code",
   "execution_count": 90,
   "id": "15e4aed5",
   "metadata": {},
   "outputs": [],
   "source": [
    "from sklearn.model_selection import train_test_split\n",
    "\n",
    "X_train, X_test, y_train, y_test = train_test_split(X, y, test_size=0.15, random_state=2)"
   ]
  },
  {
   "cell_type": "markdown",
   "id": "783dab1b",
   "metadata": {},
   "source": [
    "- Perform One-Hot Encoding for categorical columns using ColumnTransformer and Pipeline method."
   ]
  },
  {
   "cell_type": "code",
   "execution_count": 91,
   "id": "8a812083",
   "metadata": {},
   "outputs": [],
   "source": [
    "from sklearn.compose import ColumnTransformer\n",
    "from sklearn.pipeline import Pipeline\n",
    "from sklearn.preprocessing import OneHotEncoder\n",
    "from sklearn.metrics import r2_score, mean_absolute_error"
   ]
  },
  {
   "cell_type": "code",
   "execution_count": 92,
   "id": "29b9287a",
   "metadata": {},
   "outputs": [],
   "source": [
    "from sklearn.linear_model import LinearRegression, Ridge, Lasso\n",
    "from sklearn.neighbors import KNeighborsRegressor\n",
    "from sklearn.tree import DecisionTreeRegressor\n",
    "from sklearn.ensemble import RandomForestRegressor, GradientBoostingRegressor, AdaBoostRegressor, ExtraTreesRegressor\n",
    "from xgboost import XGBRegressor\n",
    "from sklearn.svm import SVR"
   ]
  },
  {
   "cell_type": "markdown",
   "id": "23e15732",
   "metadata": {},
   "source": [
    "#### Linear Regression"
   ]
  },
  {
   "cell_type": "code",
   "execution_count": 93,
   "id": "0bb54344",
   "metadata": {},
   "outputs": [
    {
     "name": "stdout",
     "output_type": "stream",
     "text": [
      "R2 Score - 0.8028204678158561\n",
      "MAE - 0.21417195480598586\n"
     ]
    }
   ],
   "source": [
    "step1 = ColumnTransformer(transformers=[\n",
    "    ('col_tnf', OneHotEncoder(sparse=False, drop='first'), [0,1,7,10,11])\n",
    "], remainder='passthrough')\n",
    "\n",
    "step2 = LinearRegression()\n",
    "\n",
    "pipe = Pipeline([\n",
    "    ('Step1', step1),\n",
    "    ('Step2', step2)\n",
    "])\n",
    "\n",
    "pipe.fit(X_train, y_train)\n",
    "\n",
    "y_pred = pipe.predict(X_test)\n",
    "\n",
    "print('R2 Score -', r2_score(y_test, y_pred))\n",
    "print('MAE -', mean_absolute_error(y_test, y_pred))"
   ]
  },
  {
   "cell_type": "markdown",
   "id": "7de8e76f",
   "metadata": {},
   "source": [
    "#### Ridge Regression"
   ]
  },
  {
   "cell_type": "code",
   "execution_count": 94,
   "id": "58b7ae7b",
   "metadata": {},
   "outputs": [
    {
     "name": "stdout",
     "output_type": "stream",
     "text": [
      "R2 Score - 0.807771710450386\n",
      "MAE - 0.21257222286900665\n"
     ]
    }
   ],
   "source": [
    "step1 = ColumnTransformer(transformers=[\n",
    "    ('col_tnf', OneHotEncoder(sparse=False, drop='first'), [0,1,7,10,11])\n",
    "], remainder='passthrough')\n",
    "\n",
    "step2 = Ridge(alpha=10)\n",
    "\n",
    "pipe = Pipeline([\n",
    "    ('Step1', step1),\n",
    "    ('Step2', step2)\n",
    "])\n",
    "\n",
    "pipe.fit(X_train, y_train)\n",
    "\n",
    "y_pred = pipe.predict(X_test)\n",
    "\n",
    "print('R2 Score -', r2_score(y_test, y_pred))\n",
    "print('MAE -', mean_absolute_error(y_test, y_pred))"
   ]
  },
  {
   "cell_type": "markdown",
   "id": "906080c8",
   "metadata": {},
   "source": [
    "#### Lasso Regression"
   ]
  },
  {
   "cell_type": "code",
   "execution_count": 95,
   "id": "f5dea011",
   "metadata": {},
   "outputs": [
    {
     "name": "stdout",
     "output_type": "stream",
     "text": [
      "R2 Score - 0.8019572618324411\n",
      "MAE - 0.2146997817397166\n"
     ]
    }
   ],
   "source": [
    "step1 = ColumnTransformer(transformers=[\n",
    "    ('col_tnf', OneHotEncoder(sparse=False, drop='first'), [0,1,7,10,11])\n",
    "], remainder='passthrough')\n",
    "\n",
    "step2 = Lasso(alpha=0.001)\n",
    "\n",
    "pipe = Pipeline([\n",
    "    ('Step1', step1),\n",
    "    ('Step2', step2)\n",
    "])\n",
    "\n",
    "pipe.fit(X_train, y_train)\n",
    "\n",
    "y_pred = pipe.predict(X_test)\n",
    "\n",
    "print('R2 Score -', r2_score(y_test, y_pred))\n",
    "print('MAE -', mean_absolute_error(y_test, y_pred))"
   ]
  },
  {
   "cell_type": "markdown",
   "id": "8f709906",
   "metadata": {},
   "source": [
    "#### KNN"
   ]
  },
  {
   "cell_type": "code",
   "execution_count": 96,
   "id": "7e775026",
   "metadata": {},
   "outputs": [
    {
     "name": "stdout",
     "output_type": "stream",
     "text": [
      "R2 Score - 0.8198446794273306\n",
      "MAE - 0.19388277261709155\n"
     ]
    }
   ],
   "source": [
    "step1 = ColumnTransformer(transformers=[\n",
    "    ('col_tnf', OneHotEncoder(sparse=False, drop='first'), [0,1,7,10,11])\n",
    "], remainder='passthrough')\n",
    "\n",
    "step2 = KNeighborsRegressor(n_neighbors=3)\n",
    "\n",
    "pipe = Pipeline([\n",
    "    ('Step1', step1),\n",
    "    ('Step2', step2)\n",
    "])\n",
    "\n",
    "pipe.fit(X_train, y_train)\n",
    "\n",
    "y_pred = pipe.predict(X_test)\n",
    "\n",
    "print('R2 Score -', r2_score(y_test, y_pred))\n",
    "print('MAE -', mean_absolute_error(y_test, y_pred))"
   ]
  },
  {
   "cell_type": "markdown",
   "id": "8e7398d8",
   "metadata": {},
   "source": [
    "#### Decision Tree Regressor"
   ]
  },
  {
   "cell_type": "code",
   "execution_count": 97,
   "id": "fcb3bf1c",
   "metadata": {},
   "outputs": [
    {
     "name": "stdout",
     "output_type": "stream",
     "text": [
      "R2 Score - 0.8218678113830831\n",
      "MAE - 0.1971689491066652\n"
     ]
    }
   ],
   "source": [
    "step1 = ColumnTransformer(transformers=[\n",
    "    ('col_tnf', OneHotEncoder(sparse=False, drop='first'), [0,1,7,10,11])\n",
    "], remainder='passthrough')\n",
    "\n",
    "step2 = DecisionTreeRegressor(max_depth=8)\n",
    "\n",
    "pipe = Pipeline([\n",
    "    ('Step1', step1),\n",
    "    ('Step2', step2)\n",
    "])\n",
    "\n",
    "pipe.fit(X_train, y_train)\n",
    "\n",
    "y_pred = pipe.predict(X_test)\n",
    "\n",
    "print('R2 Score -', r2_score(y_test, y_pred))\n",
    "print('MAE -', mean_absolute_error(y_test, y_pred))"
   ]
  },
  {
   "cell_type": "markdown",
   "id": "d9f4e124",
   "metadata": {},
   "source": [
    "#### Support Vector Machine"
   ]
  },
  {
   "cell_type": "code",
   "execution_count": 98,
   "id": "14c5727c",
   "metadata": {},
   "outputs": [
    {
     "name": "stdout",
     "output_type": "stream",
     "text": [
      "R2 Score - 0.4919657365812432\n",
      "MAE - 0.3511766443587468\n"
     ]
    }
   ],
   "source": [
    "step1 = ColumnTransformer(transformers=[\n",
    "    ('col_tnf', OneHotEncoder(sparse=False, drop='first'), [0,1,7,10,11])\n",
    "], remainder='passthrough')\n",
    "\n",
    "step2 = SVR(kernel='rbf', C=10000, epsilon=0.1)\n",
    "\n",
    "pipe = Pipeline([\n",
    "    ('Step1', step1),\n",
    "    ('Step2', step2)\n",
    "])\n",
    "\n",
    "pipe.fit(X_train, y_train)\n",
    "\n",
    "y_pred = pipe.predict(X_test)\n",
    "\n",
    "print('R2 Score -', r2_score(y_test, y_pred))\n",
    "print('MAE -', mean_absolute_error(y_test, y_pred))"
   ]
  },
  {
   "cell_type": "markdown",
   "id": "34dbe192",
   "metadata": {},
   "source": [
    "#### Random Forest Regressor"
   ]
  },
  {
   "cell_type": "code",
   "execution_count": 99,
   "id": "41c3c8a1",
   "metadata": {},
   "outputs": [
    {
     "name": "stdout",
     "output_type": "stream",
     "text": [
      "R2 Score - 0.8837853587948851\n",
      "MAE - 0.1604832047425315\n"
     ]
    }
   ],
   "source": [
    "step1 = ColumnTransformer(transformers=[\n",
    "    ('col_tnf', OneHotEncoder(sparse=False, drop='first'), [0,1,7,10,11])\n",
    "], remainder='passthrough')\n",
    "\n",
    "step2 = RandomForestRegressor(n_estimators=100,\n",
    "                             random_state=3,\n",
    "                             max_samples=0.5,\n",
    "                             max_features=0.75,\n",
    "                             max_depth=15)\n",
    "\n",
    "pipe = Pipeline([\n",
    "    ('Step1', step1),\n",
    "    ('Step2', step2)\n",
    "])\n",
    "\n",
    "pipe.fit(X_train, y_train)\n",
    "\n",
    "y_pred = pipe.predict(X_test)\n",
    "\n",
    "print('R2 Score -', r2_score(y_test, y_pred))\n",
    "print('MAE -', mean_absolute_error(y_test, y_pred))"
   ]
  },
  {
   "cell_type": "markdown",
   "id": "72c18d50",
   "metadata": {},
   "source": [
    "#### Extra Trees Regressor"
   ]
  },
  {
   "cell_type": "code",
   "execution_count": 100,
   "id": "395556b7",
   "metadata": {},
   "outputs": [
    {
     "name": "stdout",
     "output_type": "stream",
     "text": [
      "R2 Score - 0.8778502083699141\n",
      "MAE - 0.16583562367076493\n"
     ]
    }
   ],
   "source": [
    "step1 = ColumnTransformer(transformers=[\n",
    "    ('col_tnf', OneHotEncoder(sparse=False, drop='first'), [0,1,7,10,11])\n",
    "], remainder='passthrough')\n",
    "\n",
    "step2 = ExtraTreesRegressor(n_estimators=100,\n",
    "                             random_state=3,\n",
    "                             max_samples=0.5,\n",
    "                             max_features=0.75,\n",
    "                             max_depth=15,\n",
    "                           bootstrap=True)\n",
    "\n",
    "pipe = Pipeline([\n",
    "    ('Step1', step1),\n",
    "    ('Step2', step2)\n",
    "])\n",
    "\n",
    "pipe.fit(X_train, y_train)\n",
    "\n",
    "y_pred = pipe.predict(X_test)\n",
    "\n",
    "print('R2 Score -', r2_score(y_test, y_pred))\n",
    "print('MAE -', mean_absolute_error(y_test, y_pred))"
   ]
  },
  {
   "cell_type": "markdown",
   "id": "e410198d",
   "metadata": {},
   "source": [
    "#### AdaBoost Regressor"
   ]
  },
  {
   "cell_type": "code",
   "execution_count": 101,
   "id": "76e94c62",
   "metadata": {},
   "outputs": [
    {
     "name": "stdout",
     "output_type": "stream",
     "text": [
      "R2 Score - 0.7962836651210802\n",
      "MAE - 0.22574981843561448\n"
     ]
    }
   ],
   "source": [
    "step1 = ColumnTransformer(transformers=[\n",
    "    ('col_tnf', OneHotEncoder(sparse=False, drop='first'), [0,1,7,10,11])\n",
    "], remainder='passthrough')\n",
    "\n",
    "step2 = AdaBoostRegressor(n_estimators=15,\n",
    "                             learning_rate=1.0)\n",
    "\n",
    "pipe = Pipeline([\n",
    "    ('Step1', step1),\n",
    "    ('Step2', step2)\n",
    "])\n",
    "\n",
    "pipe.fit(X_train, y_train)\n",
    "\n",
    "y_pred = pipe.predict(X_test)\n",
    "\n",
    "print('R2 Score -', r2_score(y_test, y_pred))\n",
    "print('MAE -', mean_absolute_error(y_test, y_pred))"
   ]
  },
  {
   "cell_type": "markdown",
   "id": "dfe6ef56",
   "metadata": {},
   "source": [
    "#### Gradient Boost Regressor"
   ]
  },
  {
   "cell_type": "code",
   "execution_count": 102,
   "id": "b5bbe160",
   "metadata": {},
   "outputs": [
    {
     "name": "stdout",
     "output_type": "stream",
     "text": [
      "R2 Score - 0.8739387895612015\n",
      "MAE - 0.16081566525078647\n"
     ]
    }
   ],
   "source": [
    "step1 = ColumnTransformer(transformers=[\n",
    "    ('col_tnf', OneHotEncoder(sparse=False, drop='first'), [0,1,7,10,11])\n",
    "], remainder='passthrough')\n",
    "\n",
    "step2 = GradientBoostingRegressor(n_estimators=500)\n",
    "\n",
    "pipe = Pipeline([\n",
    "    ('Step1', step1),\n",
    "    ('Step2', step2)\n",
    "])\n",
    "\n",
    "pipe.fit(X_train, y_train)\n",
    "\n",
    "y_pred = pipe.predict(X_test)\n",
    "\n",
    "print('R2 Score -', r2_score(y_test, y_pred))\n",
    "print('MAE -', mean_absolute_error(y_test, y_pred))"
   ]
  },
  {
   "cell_type": "markdown",
   "id": "e77b10a5",
   "metadata": {},
   "source": [
    "#### XG Boost Regressor"
   ]
  },
  {
   "cell_type": "code",
   "execution_count": 103,
   "id": "780e2ee0",
   "metadata": {},
   "outputs": [
    {
     "name": "stdout",
     "output_type": "stream",
     "text": [
      "R2 Score - 0.868133619986617\n",
      "MAE - 0.17139163292379134\n"
     ]
    }
   ],
   "source": [
    "step1 = ColumnTransformer(transformers=[\n",
    "    ('col_tnf', OneHotEncoder(sparse=False, drop='first'), [0,1,7,10,11])\n",
    "], remainder='passthrough')\n",
    "\n",
    "step2 = XGBRegressor(n_estimators=45,\n",
    "                    max_depth=5,\n",
    "                    learning_rate=0.5)\n",
    "\n",
    "pipe = Pipeline([\n",
    "    ('Step1', step1),\n",
    "    ('Step2', step2)\n",
    "])\n",
    "\n",
    "pipe.fit(X_train, y_train)\n",
    "\n",
    "y_pred = pipe.predict(X_test)\n",
    "\n",
    "print('R2 Score -', r2_score(y_test, y_pred))\n",
    "print('MAE -', mean_absolute_error(y_test, y_pred))"
   ]
  },
  {
   "cell_type": "markdown",
   "id": "f7192cd0",
   "metadata": {},
   "source": [
    "#### Voting Regressor"
   ]
  },
  {
   "cell_type": "code",
   "execution_count": 104,
   "id": "877eca23",
   "metadata": {},
   "outputs": [
    {
     "name": "stdout",
     "output_type": "stream",
     "text": [
      "R2 Score - 0.883947632201512\n",
      "MAE - 0.16151934294268272\n"
     ]
    }
   ],
   "source": [
    "from sklearn.ensemble import VotingRegressor, StackingRegressor\n",
    "\n",
    "step1 = ColumnTransformer(transformers=[\n",
    "    ('col_tnf', OneHotEncoder(sparse=False, drop='first'), [0,1,7,10,11])\n",
    "], remainder='passthrough')\n",
    "\n",
    "rf = RandomForestRegressor(n_estimators=350,random_state=3,max_samples=0.5,max_features=0.75,max_depth=15)\n",
    "gbdt = GradientBoostingRegressor(n_estimators=100, max_features=0.5)\n",
    "xgb = XGBRegressor(n_estimators=25,max_depth=5,learning_rate=0.3)\n",
    "lr = LinearRegression()\n",
    "et = ExtraTreesRegressor(n_estimators=100,random_state=3,max_samples=0.5,max_features=0.75,max_depth=10,bootstrap=True)\n",
    "\n",
    "step2 = VotingRegressor([('rf',rf), ('gbdt',gbdt), ('xgb',xgb), ('et',et)], weights=[5,1,1,1])\n",
    "\n",
    "pipe = Pipeline([\n",
    "    ('Step1', step1),\n",
    "    ('Step2', step2)\n",
    "])\n",
    "\n",
    "pipe.fit(X_train, y_train)\n",
    "\n",
    "y_pred = pipe.predict(X_test)\n",
    "\n",
    "print('R2 Score -', r2_score(y_test, y_pred))\n",
    "print('MAE -', mean_absolute_error(y_test, y_pred))"
   ]
  },
  {
   "cell_type": "markdown",
   "id": "93835822",
   "metadata": {},
   "source": [
    "#### Stacking Regressor"
   ]
  },
  {
   "cell_type": "code",
   "execution_count": 105,
   "id": "c0269cd8",
   "metadata": {},
   "outputs": [
    {
     "name": "stdout",
     "output_type": "stream",
     "text": [
      "R2 Score - 0.8780627128343576\n",
      "MAE - 0.1682231374217479\n"
     ]
    }
   ],
   "source": [
    "step1 = ColumnTransformer(transformers=[\n",
    "    ('col_tnf', OneHotEncoder(sparse=False, drop='first'), [0,1,7,10,11])\n",
    "], remainder='passthrough')\n",
    "\n",
    "estimators = [\n",
    "    ('rf', RandomForestRegressor(n_estimators=350,random_state=3,max_samples=0.5,max_features=0.75,max_depth=15)),\n",
    "    ('gbdt', GradientBoostingRegressor(n_estimators=100, max_features=0.5)),\n",
    "    ('et', ExtraTreesRegressor(n_estimators=100,random_state=3,max_samples=0.5,max_features=0.75,max_depth=10,bootstrap=True))\n",
    "]\n",
    "\n",
    "step2 = StackingRegressor(estimators=estimators, final_estimator=Ridge(alpha=100))\n",
    "\n",
    "pipe = Pipeline([\n",
    "    ('Step1', step1),\n",
    "    ('Step2', step2)\n",
    "])\n",
    "\n",
    "pipe.fit(X_train, y_train)\n",
    "\n",
    "y_pred = pipe.predict(X_test)\n",
    "\n",
    "print('R2 Score -', r2_score(y_test, y_pred))\n",
    "print('MAE -', mean_absolute_error(y_test, y_pred))"
   ]
  },
  {
   "cell_type": "markdown",
   "id": "128612ef",
   "metadata": {},
   "source": [
    "### Deployment -\n",
    "\n",
    "#### Export the Model"
   ]
  },
  {
   "cell_type": "markdown",
   "id": "22e8a8e5",
   "metadata": {},
   "source": [
    "import pickle\n",
    "\n",
    "pickle.dump(df, open('df.pkl', 'wb'))\n",
    "pickle.dump(pipe, open('pipe.pkl', 'wb'))"
   ]
  },
  {
   "cell_type": "code",
   "execution_count": 106,
   "id": "4ad4a745",
   "metadata": {
    "scrolled": true
   },
   "outputs": [
    {
     "data": {
      "text/html": [
       "<div>\n",
       "<style scoped>\n",
       "    .dataframe tbody tr th:only-of-type {\n",
       "        vertical-align: middle;\n",
       "    }\n",
       "\n",
       "    .dataframe tbody tr th {\n",
       "        vertical-align: top;\n",
       "    }\n",
       "\n",
       "    .dataframe thead th {\n",
       "        text-align: right;\n",
       "    }\n",
       "</style>\n",
       "<table border=\"1\" class=\"dataframe\">\n",
       "  <thead>\n",
       "    <tr style=\"text-align: right;\">\n",
       "      <th></th>\n",
       "      <th>Company</th>\n",
       "      <th>TypeName</th>\n",
       "      <th>Ram</th>\n",
       "      <th>Weight</th>\n",
       "      <th>Price</th>\n",
       "      <th>Touchscreen</th>\n",
       "      <th>IPS</th>\n",
       "      <th>PPI</th>\n",
       "      <th>Cpu_Brand</th>\n",
       "      <th>HDD</th>\n",
       "      <th>SSD</th>\n",
       "      <th>Gpu_Brand</th>\n",
       "      <th>OS</th>\n",
       "    </tr>\n",
       "  </thead>\n",
       "  <tbody>\n",
       "    <tr>\n",
       "      <th>0</th>\n",
       "      <td>Apple</td>\n",
       "      <td>Ultrabook</td>\n",
       "      <td>8</td>\n",
       "      <td>1.37</td>\n",
       "      <td>71378.6832</td>\n",
       "      <td>0</td>\n",
       "      <td>1</td>\n",
       "      <td>342616.54</td>\n",
       "      <td>Intel Core i5</td>\n",
       "      <td>0</td>\n",
       "      <td>128</td>\n",
       "      <td>Intel</td>\n",
       "      <td>Mac</td>\n",
       "    </tr>\n",
       "    <tr>\n",
       "      <th>1</th>\n",
       "      <td>Apple</td>\n",
       "      <td>Ultrabook</td>\n",
       "      <td>8</td>\n",
       "      <td>1.34</td>\n",
       "      <td>47895.5232</td>\n",
       "      <td>0</td>\n",
       "      <td>0</td>\n",
       "      <td>108406.02</td>\n",
       "      <td>Intel Core i5</td>\n",
       "      <td>0</td>\n",
       "      <td>0</td>\n",
       "      <td>Intel</td>\n",
       "      <td>Mac</td>\n",
       "    </tr>\n",
       "    <tr>\n",
       "      <th>2</th>\n",
       "      <td>HP</td>\n",
       "      <td>Notebook</td>\n",
       "      <td>8</td>\n",
       "      <td>1.86</td>\n",
       "      <td>30636.0000</td>\n",
       "      <td>0</td>\n",
       "      <td>0</td>\n",
       "      <td>155538.46</td>\n",
       "      <td>Intel Core i5</td>\n",
       "      <td>0</td>\n",
       "      <td>256</td>\n",
       "      <td>Intel</td>\n",
       "      <td>Others/No OS/Linux</td>\n",
       "    </tr>\n",
       "    <tr>\n",
       "      <th>3</th>\n",
       "      <td>Apple</td>\n",
       "      <td>Ultrabook</td>\n",
       "      <td>16</td>\n",
       "      <td>1.83</td>\n",
       "      <td>135195.3360</td>\n",
       "      <td>0</td>\n",
       "      <td>1</td>\n",
       "      <td>374493.51</td>\n",
       "      <td>Intel Core i7</td>\n",
       "      <td>0</td>\n",
       "      <td>512</td>\n",
       "      <td>AMD</td>\n",
       "      <td>Mac</td>\n",
       "    </tr>\n",
       "    <tr>\n",
       "      <th>4</th>\n",
       "      <td>Apple</td>\n",
       "      <td>Ultrabook</td>\n",
       "      <td>8</td>\n",
       "      <td>1.37</td>\n",
       "      <td>96095.8080</td>\n",
       "      <td>0</td>\n",
       "      <td>1</td>\n",
       "      <td>342616.54</td>\n",
       "      <td>Intel Core i5</td>\n",
       "      <td>0</td>\n",
       "      <td>256</td>\n",
       "      <td>Intel</td>\n",
       "      <td>Mac</td>\n",
       "    </tr>\n",
       "  </tbody>\n",
       "</table>\n",
       "</div>"
      ],
      "text/plain": [
       "  Company   TypeName  Ram  Weight        Price  Touchscreen  IPS        PPI  \\\n",
       "0   Apple  Ultrabook    8    1.37   71378.6832            0    1  342616.54   \n",
       "1   Apple  Ultrabook    8    1.34   47895.5232            0    0  108406.02   \n",
       "2      HP   Notebook    8    1.86   30636.0000            0    0  155538.46   \n",
       "3   Apple  Ultrabook   16    1.83  135195.3360            0    1  374493.51   \n",
       "4   Apple  Ultrabook    8    1.37   96095.8080            0    1  342616.54   \n",
       "\n",
       "       Cpu_Brand  HDD  SSD Gpu_Brand                  OS  \n",
       "0  Intel Core i5    0  128     Intel                 Mac  \n",
       "1  Intel Core i5    0    0     Intel                 Mac  \n",
       "2  Intel Core i5    0  256     Intel  Others/No OS/Linux  \n",
       "3  Intel Core i7    0  512       AMD                 Mac  \n",
       "4  Intel Core i5    0  256     Intel                 Mac  "
      ]
     },
     "execution_count": 106,
     "metadata": {},
     "output_type": "execute_result"
    }
   ],
   "source": [
    "df.head()"
   ]
  },
  {
   "cell_type": "code",
   "execution_count": 107,
   "id": "6fb62456",
   "metadata": {},
   "outputs": [],
   "source": [
    "import pickle\n",
    "\n",
    "model = open('pipe.pickle', 'wb')\n",
    "pickle.dump(pipe, model)\n",
    "model.close()"
   ]
  },
  {
   "cell_type": "code",
   "execution_count": 108,
   "id": "36db6f0f",
   "metadata": {},
   "outputs": [
    {
     "name": "stdout",
     "output_type": "stream",
     "text": [
      "Overwriting app.py\n"
     ]
    }
   ],
   "source": [
    "%%writefile app.py\n",
    "import streamlit as st\n",
    "import pickle\n",
    "import pandas as pd\n",
    "import numpy as np\n",
    "from sklearn.compose import ColumnTransformer\n",
    "from sklearn.preprocessing import OneHotEncoder\n",
    "from sklearn.ensemble import RandomForestRegressor\n",
    "\n",
    "model = open('pipe.pickle', 'rb')\n",
    "clf = pickle.load(model)\n",
    "model.close()\n",
    "\n",
    "st.title('Laptop Predictor')\n",
    "st.markdown('Estimate the price of the laptop..!')\n",
    "\n",
    "# brand\n",
    "company = st.selectbox('Brand', ['Apple', 'HP', 'Acer', 'Asus', 'Dell', 'Lenovo', 'Chuwi', 'MSI',\n",
    "       'Microsoft', 'Toshiba', 'Huawei', 'Xiaomi', 'Vero', 'Razer',\n",
    "       'Mediacom', 'Samsung', 'Google', 'Fujitsu', 'LG'])\n",
    "\n",
    "# type of laptop\n",
    "type_ = st.selectbox('Type', ['Ultrabook', 'Notebook', 'Netbook', 'Gaming', '2 in 1 Convertible',\n",
    "       'Workstation'])\n",
    "\n",
    "# Ram\n",
    "ram = st.selectbox('RAM(in GB)', [2,4,6,8,12,16,24,32,64])\n",
    "\n",
    "# weight\n",
    "weight = st.number_input('Weight of the Laptop', 0.0, 5.0, 0.01)\n",
    "\n",
    "# Touchscreen\n",
    "touchscreen = st.selectbox('Touchscreen', ['No','Yes'])\n",
    "\n",
    "# IPS\n",
    "ips = st.selectbox('IPS', ['No','Yes'])\n",
    "\n",
    "# screen size\n",
    "screen_size = st.number_input('Screen Size', 0.0,880000)\n",
    "\n",
    "# resolution\n",
    "resolution = st.selectbox('Screen Resolution', ['1920x1080','1366x768','1600x900','3840x2160','3200x1800','2880x1800','2560x1600','2560x1440','2304x1440'])\n",
    "\n",
    "# cpu\n",
    "cpu = st.selectbox('CPU', ['Intel Core i5', 'Intel Core i7', 'AMD Processor', 'Intel Core i3',\n",
    "       'Other Intel Processor'])\n",
    "\n",
    "# hdd\n",
    "hdd = st.selectbox('HDD(in GB)', [0,128,256,512,1024,2048])\n",
    "\n",
    "# ssd\n",
    "ssd = st.selectbox('SSD(in GB)', [0,8,128,256,512,1024])\n",
    "\n",
    "# gpu\n",
    "gpu = st.selectbox('GPU', ['Intel', 'AMD', 'Nvidia'])\n",
    "\n",
    "# os\n",
    "os = st.selectbox('OS', ['Mac', 'Others/No OS/Linux', 'Windows'])\n",
    "\n",
    "df = {'Company':company,\n",
    "      'TypeName':type_,\n",
    "      'Ram':ram,\n",
    "      'Weight':weight,\n",
    "      'Touchscreen':touchscreen,\n",
    "      'IPS':ips,\n",
    "      'PPI':screen_size,\n",
    "      'Screen Resolution':resolution,\n",
    "      'Cpu_Brand':cpu,\n",
    "      'HDD':hdd,\n",
    "      'SSD':ssd,\n",
    "      'Gpu_Brand':gpu,\n",
    "      'OS':os}\n",
    "\n",
    "df = pd.DataFrame([df])\n",
    "\n",
    "if st.button('Predict Price'):\n",
    "    ppi = None\n",
    "    if touchscreen == 'Yes':\n",
    "        touchscreen = 1\n",
    "    else:\n",
    "        touchscreen = 0\n",
    "\n",
    "    if ips == 'Yes':\n",
    "        ips = 1\n",
    "    else:\n",
    "        ips = 0\n",
    "\n",
    "    X_res = int(resolution.split('x')[0])\n",
    "    Y_res = int(resolution.split('x')[1])\n",
    "    ppi = ((X_res**2) + (Y_res**2))**0.5/screen_size\n",
    "    query = np.array([company,type_,ram,weight,touchscreen,ips,ppi,cpu,hdd,ssd,gpu,os])\n",
    "\n",
    "    query = query.reshape(1,12)\n",
    "    pipe = clf.predict(query)[0]\n",
    "    st.title(\"The predicted price of this configuration is \" + str(int(np.exp(pipe))))\n"
   ]
  },
  {
   "cell_type": "code",
   "execution_count": 109,
   "id": "9e25e4cd",
   "metadata": {},
   "outputs": [
    {
     "data": {
      "text/html": [
       "<div>\n",
       "<style scoped>\n",
       "    .dataframe tbody tr th:only-of-type {\n",
       "        vertical-align: middle;\n",
       "    }\n",
       "\n",
       "    .dataframe tbody tr th {\n",
       "        vertical-align: top;\n",
       "    }\n",
       "\n",
       "    .dataframe thead th {\n",
       "        text-align: right;\n",
       "    }\n",
       "</style>\n",
       "<table border=\"1\" class=\"dataframe\">\n",
       "  <thead>\n",
       "    <tr style=\"text-align: right;\">\n",
       "      <th></th>\n",
       "      <th>Company</th>\n",
       "      <th>TypeName</th>\n",
       "      <th>Ram</th>\n",
       "      <th>Weight</th>\n",
       "      <th>Price</th>\n",
       "      <th>Touchscreen</th>\n",
       "      <th>IPS</th>\n",
       "      <th>PPI</th>\n",
       "      <th>Cpu_Brand</th>\n",
       "      <th>HDD</th>\n",
       "      <th>SSD</th>\n",
       "      <th>Gpu_Brand</th>\n",
       "      <th>OS</th>\n",
       "    </tr>\n",
       "  </thead>\n",
       "  <tbody>\n",
       "    <tr>\n",
       "      <th>586</th>\n",
       "      <td>HP</td>\n",
       "      <td>Gaming</td>\n",
       "      <td>16</td>\n",
       "      <td>3.78</td>\n",
       "      <td>79813.44</td>\n",
       "      <td>0</td>\n",
       "      <td>1</td>\n",
       "      <td>140254.34</td>\n",
       "      <td>Intel Core i7</td>\n",
       "      <td>1</td>\n",
       "      <td>256</td>\n",
       "      <td>Nvidia</td>\n",
       "      <td>Windows</td>\n",
       "    </tr>\n",
       "    <tr>\n",
       "      <th>65</th>\n",
       "      <td>Asus</td>\n",
       "      <td>Ultrabook</td>\n",
       "      <td>16</td>\n",
       "      <td>1.80</td>\n",
       "      <td>105654.24</td>\n",
       "      <td>0</td>\n",
       "      <td>0</td>\n",
       "      <td>155538.46</td>\n",
       "      <td>Intel Core i7</td>\n",
       "      <td>0</td>\n",
       "      <td>512</td>\n",
       "      <td>Nvidia</td>\n",
       "      <td>Windows</td>\n",
       "    </tr>\n",
       "    <tr>\n",
       "      <th>783</th>\n",
       "      <td>Lenovo</td>\n",
       "      <td>Notebook</td>\n",
       "      <td>8</td>\n",
       "      <td>2.20</td>\n",
       "      <td>17529.12</td>\n",
       "      <td>0</td>\n",
       "      <td>0</td>\n",
       "      <td>78710.90</td>\n",
       "      <td>Other Intel Processor</td>\n",
       "      <td>1</td>\n",
       "      <td>0</td>\n",
       "      <td>Intel</td>\n",
       "      <td>Others/No OS/Linux</td>\n",
       "    </tr>\n",
       "    <tr>\n",
       "      <th>311</th>\n",
       "      <td>Dell</td>\n",
       "      <td>Ultrabook</td>\n",
       "      <td>16</td>\n",
       "      <td>1.21</td>\n",
       "      <td>133146.72</td>\n",
       "      <td>1</td>\n",
       "      <td>1</td>\n",
       "      <td>729744.36</td>\n",
       "      <td>Intel Core i7</td>\n",
       "      <td>0</td>\n",
       "      <td>1</td>\n",
       "      <td>Intel</td>\n",
       "      <td>Windows</td>\n",
       "    </tr>\n",
       "    <tr>\n",
       "      <th>719</th>\n",
       "      <td>HP</td>\n",
       "      <td>Notebook</td>\n",
       "      <td>8</td>\n",
       "      <td>2.63</td>\n",
       "      <td>63936.00</td>\n",
       "      <td>0</td>\n",
       "      <td>0</td>\n",
       "      <td>140254.34</td>\n",
       "      <td>Intel Core i7</td>\n",
       "      <td>0</td>\n",
       "      <td>256</td>\n",
       "      <td>Nvidia</td>\n",
       "      <td>Windows</td>\n",
       "    </tr>\n",
       "  </tbody>\n",
       "</table>\n",
       "</div>"
      ],
      "text/plain": [
       "    Company   TypeName  Ram  Weight      Price  Touchscreen  IPS        PPI  \\\n",
       "586      HP     Gaming   16    3.78   79813.44            0    1  140254.34   \n",
       "65     Asus  Ultrabook   16    1.80  105654.24            0    0  155538.46   \n",
       "783  Lenovo   Notebook    8    2.20   17529.12            0    0   78710.90   \n",
       "311    Dell  Ultrabook   16    1.21  133146.72            1    1  729744.36   \n",
       "719      HP   Notebook    8    2.63   63936.00            0    0  140254.34   \n",
       "\n",
       "                 Cpu_Brand  HDD  SSD Gpu_Brand                  OS  \n",
       "586          Intel Core i7    1  256    Nvidia             Windows  \n",
       "65           Intel Core i7    0  512    Nvidia             Windows  \n",
       "783  Other Intel Processor    1    0     Intel  Others/No OS/Linux  \n",
       "311          Intel Core i7    0    1     Intel             Windows  \n",
       "719          Intel Core i7    0  256    Nvidia             Windows  "
      ]
     },
     "execution_count": 109,
     "metadata": {},
     "output_type": "execute_result"
    }
   ],
   "source": [
    "df.sample(5)"
   ]
  },
  {
   "cell_type": "code",
   "execution_count": 110,
   "id": "635c6578",
   "metadata": {},
   "outputs": [
    {
     "data": {
      "text/plain": [
       "4.699999809265137"
      ]
     },
     "execution_count": 110,
     "metadata": {},
     "output_type": "execute_result"
    }
   ],
   "source": [
    "df.Weight.max()"
   ]
  },
  {
   "cell_type": "code",
   "execution_count": 111,
   "id": "6fec5969",
   "metadata": {},
   "outputs": [
    {
     "data": {
      "text/plain": [
       "776448.0"
      ]
     },
     "execution_count": 111,
     "metadata": {},
     "output_type": "execute_result"
    }
   ],
   "source": [
    "df.PPI.max()"
   ]
  },
  {
   "cell_type": "code",
   "execution_count": null,
   "id": "fefd0213",
   "metadata": {},
   "outputs": [],
   "source": []
  }
 ],
 "metadata": {
  "kernelspec": {
   "display_name": "Python 3 (ipykernel)",
   "language": "python",
   "name": "python3"
  },
  "language_info": {
   "codemirror_mode": {
    "name": "ipython",
    "version": 3
   },
   "file_extension": ".py",
   "mimetype": "text/x-python",
   "name": "python",
   "nbconvert_exporter": "python",
   "pygments_lexer": "ipython3",
   "version": "3.9.13"
  }
 },
 "nbformat": 4,
 "nbformat_minor": 5
}
